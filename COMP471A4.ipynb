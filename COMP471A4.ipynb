{
 "cells": [
  {
   "cell_type": "markdown",
   "metadata": {},
   "source": [
    "# COMP471 Assignment 4\n",
    "## Question 1\n",
    "\n",
    "Implemented a P function and Q function which are two distributions. accept with probability minimum(1,...)"
   ]
  },
  {
   "cell_type": "code",
   "execution_count": 73,
   "metadata": {},
   "outputs": [],
   "source": [
    "%matplotlib inline\n",
    "import matplotlib\n",
    "import numpy as np\n",
    "import matplotlib.pyplot as plt\n",
    "import numpy.random as rng\n",
    "import math\n",
    "# from mpl_toolkits.mplot3d import Axes3D  # noqa: F401 unused import\n",
    "\n",
    "np.set_printoptions(precision = 2)"
   ]
  },
  {
   "cell_type": "code",
   "execution_count": 125,
   "metadata": {},
   "outputs": [],
   "source": [
    "def Pstar(v):## for each x,y pair\n",
    "    Pstar = np.log(np.exp(-np.sum(v*v/40.)) * np.power((np.abs(v[0])/(1. + np.abs(v[1]))),  4.0))\n",
    "#     Pstar = np.exp(-np.sum(v*v/40.)) * np.power((np.abs(v[0])/(1. + np.abs(v[1]))),  4.0)\n",
    "\n",
    "    return Pstar\n",
    "    "
   ]
  },
  {
   "cell_type": "code",
   "execution_count": 182,
   "metadata": {},
   "outputs": [],
   "source": [
    "def Qstar(z):## for each x,y pair\n",
    "    Qstar  = np.log(np.exp(-np.sum(v*v)/40))\n",
    "    return Qstar"
   ]
  },
  {
   "cell_type": "code",
   "execution_count": 187,
   "metadata": {},
   "outputs": [],
   "source": [
    "def make_Metropolis_Samples():\n",
    "    # Metropolis parameters\n",
    "    \n",
    "    upper_bounds = [1, 1] ## ranges for x and y first column for x and second column for y   \n",
    "    lower_bounds = [-1, -1] \n",
    "    num_samples = 1000\n",
    "    gap_between_samples = 100\n",
    "    sigma_proposal = 0.05     # initial width of the proposal distribution\n",
    "    num_samples_per_chain = 1\n",
    "    \n",
    "    all_samples = [] # recording the accepeted samples \n",
    "    while (len(all_samples) < num_samples):\n",
    "        \n",
    "        v = ([np.random.uniform(lower_bounds[0],upper_bounds[0]),np.random.uniform(lower_bounds[1],upper_bounds[1])])\n",
    "        v = np.reshape(v, (-1, 2))\n",
    "        v = v[0]\n",
    "        print(v)\n",
    "\n",
    "        # Metropolis \n",
    "        num_proposed, num_accepted, num_sampled_this_chain=0,0,0\n",
    "        while (num_sampled_this_chain < num_samples_per_chain) and (len(all_samples) < num_samples):\n",
    "            for t in range(gap_between_samples):\n",
    "                ## change here to pstar and qstar\n",
    "#                 prop_theta = Pstar(theta, sigma_proposal)\n",
    "#                 a=a1*a2\n",
    "#                 a1 = Pstar(v)\n",
    "#                 a2 = Qstar(v)\n",
    "#                 num_proposed += 1\n",
    "#                 if a > 1\n",
    "#                 prop_log_post = calc_log_posterior(prop_theta,partX,partT,hyperparameters)\n",
    "                \n",
    "#                 if (prop_log_post > log_post) or (np.exp((prop_log_post-log_post)) > rng.random()): \n",
    "#                     theta, log_post = prop_theta, prop_log_post\n",
    "#                     num_accepted += 1\n",
    "\n",
    "#             all_samples.append(theta)  \n",
    "#             num_sampled_this_chain += 1\n",
    "                if(p > q) or (np.exp((p-q))> rng.random()):\n",
    "                    num_accepted +=1\n",
    "                    all_samples.append(v)\n",
    "    print(len(all_samples))\n",
    "    return all_samples"
   ]
  },
  {
   "cell_type": "code",
   "execution_count": null,
   "metadata": {},
   "outputs": [],
   "source": []
  },
  {
   "cell_type": "code",
   "execution_count": 190,
   "metadata": {
    "scrolled": true
   },
   "outputs": [
    {
     "name": "stdout",
     "output_type": "stream",
     "text": [
      "[-0.49 -0.26]\n",
      "1000\n",
      "[-0.49 -0.26]\n"
     ]
    }
   ],
   "source": [
    "\n",
    "m = make_Metropolis_Samples()\n",
    "print(m[100])\n"
   ]
  },
  {
   "cell_type": "code",
   "execution_count": null,
   "metadata": {},
   "outputs": [],
   "source": []
  },
  {
   "cell_type": "markdown",
   "metadata": {},
   "source": [
    "## Question 2 "
   ]
  },
  {
   "cell_type": "markdown",
   "metadata": {},
   "source": [
    "Code based on https://gitlab.ecs.vuw.ac.nz/lms/comp471/probabilistic_machine_learning_2020/-/blob/master/notebooks/markov-messages.ipynb\n",
    "(The code is demostrating a mc, where we need to modifiy it to make it become HMM. )\n"
   ]
  },
  {
   "cell_type": "code",
   "execution_count": 34,
   "metadata": {},
   "outputs": [],
   "source": [
    "%matplotlib inline\n",
    "import matplotlib\n",
    "import numpy as np\n",
    "import matplotlib.pyplot as plt\n",
    "import numpy.random as rng\n",
    "np.set_printoptions(precision = 2)\n",
    "# I want tick labels at the top, like in lectures\n",
    "plt.rcParams['xtick.bottom'] = plt.rcParams['xtick.labelbottom'] = False\n",
    "plt.rcParams['xtick.top'] = plt.rcParams['xtick.labeltop'] = True\n",
    "matplotlib.rcParams['figure.dpi'] = 120\n",
    "# rng.seed(471)"
   ]
  },
  {
   "cell_type": "code",
   "execution_count": 35,
   "metadata": {},
   "outputs": [],
   "source": [
    "def onehot(j,n):\n",
    "    # returns a one-hot vector of size n.\n",
    "    z = np.zeros(n)\n",
    "    z[j]=1\n",
    "    return(z)"
   ]
  },
  {
   "cell_type": "code",
   "execution_count": 36,
   "metadata": {},
   "outputs": [],
   "source": [
    "ns_h=3 # has ns_h entries for hidden chain\n",
    "ns_o=3 #has ns_o entries for observation\n",
    "import string\n",
    "stateNames = string.ascii_uppercase[:ns_h]\n",
    "stateNames_y = string.ascii_lowercase[:ns_o]\n",
    "\n",
    "# Make up a prior for the initial state. I call this M0\n",
    "M0 = rng.random(ns_h)#state transition matrix\n",
    "#make up a prior for the initial state for y called by E0\n",
    "E0 = rng.random(ns_o)#emission probability matrix\n",
    "\n",
    "# Make up a transition matrix. Some examples might be commented out here.\n",
    "# M = np.array([[.9,0,.1],[.1,.9,0],[0,.1,.9]])   # a slow rock-paper-scissors cycle!\n",
    "M = np.array([[.1,0,.5],[.9,.1,0],[0,.9,.5]])   # same, but faster, and 2-->0 is slower.\n",
    "E =np.array([[.9,0,.1],[.1,.9,0],[0,.1,.9]])\n",
    "\n",
    "\n",
    "# M = rng.random((ns_h,ns_h))  # totally made-up transition matrix\n",
    "# E = rng.random((ns_o,ns_o))\n",
    "M = M / M.sum(0) # just to be sure it's normalised down the cols.\n",
    "E = E/ E.sum(0)\n"
   ]
  },
  {
   "cell_type": "code",
   "execution_count": 37,
   "metadata": {},
   "outputs": [
    {
     "data": {
      "image/png": "[encoded data removed]",
      "text/plain": [
       "<Figure size 720x480 with 2 Axes>"
      ]
     },
     "metadata": {
      "needs_background": "light"
     },
     "output_type": "display_data"
    }
   ],
   "source": [
    "fig, ax= plt.subplots(1,2)\n",
    "ax[0].imshow(np.atleast_2d(E0).T, cmap='Blues', vmin=0,vmax=1)\n",
    "ax[0].set_title(r'init probs, $E0$'); ax[0].axis('off')\n",
    "ax[1].imshow(E, cmap='Blues', vmin=0,vmax=1)\n",
    "dum = ax[1].set_title(r'Emmisions, $E$')\n",
    "dum = plt.setp(ax[1], xticks=range(ns_o), xticklabels=stateNames_y, yticks=range(ns_o), yticklabels=stateNames)\n",
    "plt.tight_layout()"
   ]
  },
  {
   "cell_type": "markdown",
   "metadata": {},
   "source": [
    "But the states of x are hidden here is just a demonstration of x (imagine we cant see it)"
   ]
  },
  {
   "cell_type": "code",
   "execution_count": 38,
   "metadata": {},
   "outputs": [
    {
     "data": {
      "image/png": "[encoded data removed]",
      "text/plain": [
       "<Figure size 720x480 with 2 Axes>"
      ]
     },
     "metadata": {
      "needs_background": "light"
     },
     "output_type": "display_data"
    }
   ],
   "source": [
    "fig, ax= plt.subplots(1,2)\n",
    "ax[0].imshow(np.atleast_2d(M0).T, cmap='Blues', vmin=0,vmax=1)\n",
    "ax[0].set_title(r'init probs, $M0$'); ax[0].axis('off')\n",
    "ax[1].imshow(M, cmap='Blues', vmin=0,vmax=1)\n",
    "dum = ax[1].set_title(r'transitions, $M$')\n",
    "dum = plt.setp(ax[1], xticks=range(ns_h), xticklabels=stateNames, yticks=range(ns_h), yticklabels=stateNames)\n",
    "plt.tight_layout()\n"
   ]
  },
  {
   "cell_type": "code",
   "execution_count": 46,
   "metadata": {},
   "outputs": [
    {
     "name": "stdout",
     "output_type": "stream",
     "text": [
      "{0: 0, 9: 2, 15: 0}\n"
     ]
    }
   ],
   "source": [
    "nt=20  # this is the length of the sequence (time steps )\n",
    "no_obs = 2\n",
    "obs={} # now the observation become y instead of x \n",
    "for i in range(no_obs): \n",
    "    obs[rng.randint(nt)] = rng.randint(ns_o)\n",
    "\n",
    "# OR INSTEAD, FOR TESTING, let's just ordain the first and last states.    \n",
    "obs ={0:0, 9:2, 15:0}\n",
    "\n",
    "print(obs)"
   ]
  },
  {
   "cell_type": "code",
   "execution_count": 47,
   "metadata": {},
   "outputs": [],
   "source": [
    " # messages going from vars to factors...   # here is still MM\n",
    "msg_forw_to_factor = np.zeros((ns_o,nt))  # 'D' for msg heading Down-stream\n",
    "msg_back_to_factor = np.zeros((ns_o,nt))  # 'U' for msg heading Up-stream\n",
    "\n",
    "# messages going from factors to vars...\n",
    "msg_forw_to_var = np.zeros((ns_o,nt))  \n",
    "msg_back_to_var = np.zeros((ns_o,nt))  \n",
    "\n",
    "# messages going from y to factors\n",
    "msg_y_to_factor = np.zeros((ns_o,nt))  \n",
    "# messages from factor on y side to var\n",
    "msg_yfactor_to_var = np.zeros((ns_o,nt)) ## just E matrix"
   ]
  },
  {
   "cell_type": "code",
   "execution_count": 48,
   "metadata": {},
   "outputs": [],
   "source": [
    "for t in range(nt):\n",
    "    # first we do the message leaving the var node, going forwards / downstream\n",
    "    if t==0:\n",
    "        # special case because has it's very own factor\n",
    "        msg_forw_to_var[:,t] = M0 # nb. does not matter, but anyway!\n",
    "    else:\n",
    "        upstream_msg = msg_forw_to_factor[:,t-1]\n",
    "        msg_forw_to_var[:,t] = (M * upstream_msg).sum(1).reshape(ns_h)        \n",
    "        # Note that all factor nodes are the same, namely the matrix of conditional probs, `M'\n",
    "        # nb. numpy is automatically doing the \"tiling\" of the FROM msg into the shape of M, here.\n",
    "    \n",
    "\n",
    "    if t in obs: # there's an observation - this beats any inference guesswork!\n",
    "        msg_y_to_factor[:,t] =  (E.T *onehot(obs[t],ns_o)).sum(1).reshape(ns_o)\n",
    "        msg_forw_to_factor[:,t] =   msg_y_to_factor[:,t] # the observed value, one-hot encoded\n",
    "    else:\n",
    "        msg_forw_to_factor[:,t] = msg_forw_to_var[:,t] # default is it goes straight through the variable node."
   ]
  },
  {
   "cell_type": "code",
   "execution_count": 49,
   "metadata": {},
   "outputs": [
    {
     "data": {
      "image/png": "[encoded data removed]",
      "text/plain": [
       "<Figure size 720x480 with 2 Axes>"
      ]
     },
     "metadata": {
      "needs_background": "light"
     },
     "output_type": "display_data"
    }
   ],
   "source": [
    " fig, (ax1, ax2) = plt.subplots(nrows=2)\n",
    "\n",
    "ax1.imshow(msg_forw_to_var, cmap='Blues', vmin=0,vmax=1)\n",
    "dum = ax1.set_title('msg forw to var')\n",
    "ax2.imshow(msg_forw_to_factor, cmap='Blues', vmin=0,vmax=1)\n",
    "dum = ax2.set_title('msg forw to factor')\n",
    "dum = plt.setp((ax1,ax2), xticks=[], yticks=range(ns_h), yticklabels=stateNames)"
   ]
  },
  {
   "cell_type": "code",
   "execution_count": 50,
   "metadata": {},
   "outputs": [],
   "source": [
    "for t in reversed(range(nt)):\n",
    "    if t == nt-1: # last one is special case: incoming back msg is just a dummy vector of ones.\n",
    "        msg_back_to_var[:,t] = np.ones(ns_h)/ns_h\n",
    "    else:\n",
    "        upstream_msg = msg_back_to_factor[:,t+1]\n",
    "        msg_back_to_var[:,t] = (M.T * upstream_msg).sum(1).reshape(ns_h)    \n",
    "    \n",
    "    if t in obs: # there's an observation - this beats any inference guesswork!\n",
    "        msg_back_to_factor[:,t] = (E.T*onehot(obs[t],ns_o)).sum(1).reshape(ns_o) # the observed value, one-hot encoded\n",
    "    else:\n",
    "        msg_back_to_factor[:,t] = msg_back_to_var[:,t] # default is it goes straight through the variable node."
   ]
  },
  {
   "cell_type": "code",
   "execution_count": 51,
   "metadata": {},
   "outputs": [
    {
     "data": {
      "image/png": "[encoded data removed]",
      "text/plain": [
       "<Figure size 720x480 with 2 Axes>"
      ]
     },
     "metadata": {
      "needs_background": "light"
     },
     "output_type": "display_data"
    }
   ],
   "source": [
    " fig, (ax1, ax2) = plt.subplots(nrows=2)\n",
    "ax1.imshow(msg_back_to_factor, cmap='Blues', vmin=0,vmax=1)\n",
    "dum = ax1.set_title('msg back to factor')\n",
    "ax2.imshow(msg_back_to_var, cmap='Blues', vmin=0,vmax=1)\n",
    "dum = ax2.set_title('msg back to var')\n",
    "dum = plt.setp((ax1,ax2), xticks=[], yticks=range(ns_h), yticklabels=stateNames)"
   ]
  },
  {
   "cell_type": "code",
   "execution_count": 45,
   "metadata": {},
   "outputs": [
    {
     "data": {
      "image/png": "[encoded data removed]",
      "text/plain": [
       "<Figure size 720x480 with 1 Axes>"
      ]
     },
     "metadata": {
      "needs_background": "light"
     },
     "output_type": "display_data"
    }
   ],
   "source": [
    " px = np.zeros((ns_h,nt))\n",
    "px =  msg_forw_to_var * msg_back_to_var\n",
    "for t in obs: px[:,t] = onehot(obs[t],ns_h)\n",
    "    \n",
    "px = px / px.sum(0)\n",
    "fig, ax = plt.subplots(1,1)\n",
    "ax.imshow(px, cmap='Blues', vmin=0,vmax=1)\n",
    "dum = ax.set_title('posterior distribution over states')"
   ]
  },
  {
   "cell_type": "code",
   "execution_count": null,
   "metadata": {},
   "outputs": [],
   "source": []
  },
  {
   "cell_type": "code",
   "execution_count": null,
   "metadata": {},
   "outputs": [],
   "source": []
  },
  {
   "cell_type": "code",
   "execution_count": null,
   "metadata": {},
   "outputs": [],
   "source": []
  }
 ],
 "metadata": {
  "kernelspec": {
   "display_name": "Python 3",
   "language": "python",
   "name": "python3"
  },
  "language_info": {
   "codemirror_mode": {
    "name": "ipython",
    "version": 3
   },
   "file_extension": ".py",
   "mimetype": "text/x-python",
   "name": "python",
   "nbconvert_exporter": "python",
   "pygments_lexer": "ipython3",
   "version": "3.8.1"
  }
 },
 "nbformat": 4,
 "nbformat_minor": 2
}
