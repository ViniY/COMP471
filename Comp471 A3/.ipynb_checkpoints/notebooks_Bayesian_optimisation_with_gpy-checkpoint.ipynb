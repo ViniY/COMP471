{
 "cells": [
  {
   "cell_type": "code",
   "execution_count": 1,
   "metadata": {},
   "outputs": [
    {
     "ename": "ModuleNotFoundError",
     "evalue": "No module named 'GPy'",
     "output_type": "error",
     "traceback": [
      "\u001b[0;31m---------------------------------------------------------------------------\u001b[0m",
      "\u001b[0;31mModuleNotFoundError\u001b[0m                       Traceback (most recent call last)",
      "\u001b[0;32m<ipython-input-1-cdfff1bff8d0>\u001b[0m in \u001b[0;36m<module>\u001b[0;34m\u001b[0m\n\u001b[0;32m----> 1\u001b[0;31m \u001b[0;32mimport\u001b[0m \u001b[0mGPy\u001b[0m  \u001b[0;31m# see http://sheffieldml.github.io/GPy/ for install instructions\u001b[0m\u001b[0;34m\u001b[0m\u001b[0;34m\u001b[0m\u001b[0m\n\u001b[0m\u001b[1;32m      2\u001b[0m \u001b[0;32mimport\u001b[0m \u001b[0mnumpy\u001b[0m \u001b[0;32mas\u001b[0m \u001b[0mnp\u001b[0m\u001b[0;34m\u001b[0m\u001b[0;34m\u001b[0m\u001b[0m\n\u001b[1;32m      3\u001b[0m \u001b[0;32mimport\u001b[0m \u001b[0mnumpy\u001b[0m\u001b[0;34m.\u001b[0m\u001b[0mrandom\u001b[0m \u001b[0;32mas\u001b[0m \u001b[0mrng\u001b[0m \u001b[0;31m# random number generator\u001b[0m\u001b[0;34m\u001b[0m\u001b[0;34m\u001b[0m\u001b[0m\n\u001b[1;32m      4\u001b[0m \u001b[0;32mimport\u001b[0m \u001b[0mmatplotlib\u001b[0m\u001b[0;34m.\u001b[0m\u001b[0mpyplot\u001b[0m \u001b[0;32mas\u001b[0m \u001b[0mplt\u001b[0m\u001b[0;34m\u001b[0m\u001b[0;34m\u001b[0m\u001b[0m\n\u001b[1;32m      5\u001b[0m \u001b[0;32mfrom\u001b[0m \u001b[0mscipy\u001b[0m\u001b[0;34m.\u001b[0m\u001b[0mstats\u001b[0m \u001b[0;32mimport\u001b[0m \u001b[0mnorm\u001b[0m \u001b[0;32mas\u001b[0m \u001b[0mgaussian\u001b[0m \u001b[0;31m# useful for the Gaussian cdf.\u001b[0m\u001b[0;34m\u001b[0m\u001b[0;34m\u001b[0m\u001b[0m\n",
      "\u001b[0;31mModuleNotFoundError\u001b[0m: No module named 'GPy'"
     ]
    }
   ],
   "source": [
    "import GPy  # see http://sheffieldml.github.io/GPy/ for install instructions\n",
    "import numpy as np\n",
    "import numpy.random as rng # random number generator\n",
    "import matplotlib.pyplot as plt\n",
    "from scipy.stats import norm as gaussian # useful for the Gaussian cdf."
   ]
  },
  {
   "cell_type": "code",
   "execution_count": null,
   "metadata": {},
   "outputs": [],
   "source": [
    "noise = 0.1\n",
    "# Noisy training data\n",
    "def actual_surface(Xtrain,noise):\n",
    "    evaluations = np.sin(Xtrain) + noise * np.random.randn(*Xtrain.shape)\n",
    "    return(evaluations)\n",
    "\n",
    "# all the points we want to plot predictions at\n",
    "X = np.arange(-5, 5, 0.2).reshape(-1, 1)\n",
    "\n",
    "# Some initial measurements at a few points\n",
    "X_train = 10*rng.random(4).reshape(-1,1) - 5\n",
    "Y_train = actual_surface(X_train,noise)\n",
    "\n",
    "# Make a nice plot\n",
    "def plot_gp(mu, cov, X, X_train=None, Y_train=None, samples=[]):\n",
    "    X = X.ravel()\n",
    "    mu = mu.ravel()\n",
    "    uncertainty = 1.96 * np.sqrt(np.diag(cov))\n",
    "    \n",
    "    plt.fill_between(X, mu + uncertainty, mu - uncertainty, alpha=0.1)\n",
    "    plt.plot(X, mu, label='Mean')\n",
    "    for i, sample in enumerate(samples):\n",
    "        plt.plot(X, sample, lw=1, ls='--', label=f'Sample {i+1}')\n",
    "    if X_train is not None:\n",
    "        plt.plot(X_train, Y_train, 'rx')\n",
    "    plt.legend()\n",
    "    return(plt.gca())"
   ]
  },
  {
   "cell_type": "markdown",
   "metadata": {},
   "source": [
    "# First, simple GP regression"
   ]
  },
  {
   "cell_type": "code",
   "execution_count": null,
   "metadata": {},
   "outputs": [],
   "source": [
    "from sklearn.gaussian_process import GaussianProcessRegressor\n",
    "from sklearn.gaussian_process.kernels import ConstantKernel, RBF\n",
    "\n",
    "rbf = ConstantKernel(1.0) * RBF(length_scale=1.0)\n",
    "gpr = GaussianProcessRegressor(kernel=rbf, alpha=noise**2)\n",
    "\n",
    "# Reuse training data from previous 1D example\n",
    "gpr.fit(X_train, Y_train)\n",
    "\n",
    "# Compute posterior predictive mean and covariance\n",
    "mu_s, cov_s = gpr.predict(X, return_cov=True)\n",
    "\n",
    "# Obtain optimized kernel parameters\n",
    "\n",
    "# Plot the results\n",
    "thePlot = plot_gp(mu_s, cov_s, X, X_train=X_train, Y_train=Y_train)\n"
   ]
  },
  {
   "cell_type": "markdown",
   "metadata": {},
   "source": [
    "# Next, get set up to use the GP predictions to guide search for a peak"
   ]
  },
  {
   "cell_type": "code",
   "execution_count": null,
   "metadata": {},
   "outputs": [],
   "source": [
    "# To select new samples \"actively\", we need to define an \"infill criterion\"!\n",
    "def infill_function(y_means, y_stds, y_best_so_far):\n",
    "    # this is a pretty dumb one\n",
    "    val = y_means + y_stds\n",
    "    \n",
    "    # this is better: it's the probability of improvement upon the best y seen so far.\n",
    "    # u is the standardized_best\n",
    "    u = (y_best_so_far - y_means)/y_stds\n",
    "    val = 1-gaussian.cdf(u)\n",
    "    \n",
    "    # better still? Expected improvement\n",
    "    val = y_stds * (u*gaussian.cdf(-u) + gaussian.pdf(u) )\n",
    "    return val"
   ]
  },
  {
   "cell_type": "markdown",
   "metadata": {},
   "source": [
    "## Run this cell a few times and watch the plot\n",
    "Note you can use Control+Enter to stay on the same cell.\n",
    "\n",
    "Notice how \n",
    " * the estimates of length scale and noise hyperparameters are being learned, as new data arrives\n",
    " * the predicted improvement gets small after a while - it's time to stop!"
   ]
  },
  {
   "cell_type": "code",
   "execution_count": null,
   "metadata": {},
   "outputs": [],
   "source": [
    "# same as previously (but stripped of comment), we \"fit\" a GP with the current data\n",
    "gpr.fit(X_train, Y_train)\n",
    "mu_s, cov_s = gpr.predict(X, return_cov=True)\n",
    "l = gpr.kernel_.k2.get_params()['length_scale']\n",
    "sigma_f = np.sqrt(gpr.kernel_.k1.get_params()['constant_value'])\n",
    "print(\"The MAP length scale is {0:.3f} and sigma_f is {1:.3f}\".format(l,sigma_f))\n",
    "# Plot the results\n",
    "thePlot = plot_gp(mu_s, cov_s, X, X_train=X_train, Y_train=Y_train)\n",
    "y_pred, y_std, y_best_so_far = mu_s.ravel(), np.sqrt(np.diag(cov_s)), max(Y_train)\n",
    "\n",
    "# Plot the infill criterion, everywhere\n",
    "infill = infill_function(y_pred,y_std,y_best_so_far)\n",
    "thePlot.plot(X,infill,label=\"infill\")\n",
    "iHope = np.argmax(infill)  # index of what one hopes is a good spot to look at.\n",
    "thePlot.plot(X[iHope],max(infill),'ok')\n",
    "thePlot.legend()\n",
    "\n",
    "# Add a new sample to the data set\n",
    "X_train = np.append(X_train,np.atleast_2d(X[iHope])).reshape(-1,1)\n",
    "Y_train = actual_surface(X_train,noise)"
   ]
  },
  {
   "cell_type": "code",
   "execution_count": null,
   "metadata": {},
   "outputs": [],
   "source": []
  },
  {
   "cell_type": "code",
   "execution_count": null,
   "metadata": {},
   "outputs": [],
   "source": []
  },
  {
   "cell_type": "code",
   "execution_count": null,
   "metadata": {},
   "outputs": [],
   "source": []
  }
 ],
 "metadata": {
  "kernelspec": {
   "display_name": "Python 3",
   "language": "python",
   "name": "python3"
  },
  "language_info": {
   "codemirror_mode": {
    "name": "ipython",
    "version": 3
   },
   "file_extension": ".py",
   "mimetype": "text/x-python",
   "name": "python",
   "nbconvert_exporter": "python",
   "pygments_lexer": "ipython3",
   "version": "3.7.4"
  }
 },
 "nbformat": 4,
 "nbformat_minor": 2
}
