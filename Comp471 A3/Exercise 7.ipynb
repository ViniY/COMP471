{
 "cells": [
  {
   "cell_type": "code",
   "execution_count": 2,
   "metadata": {},
   "outputs": [],
   "source": [
    "%matplotlib inline\n",
    "import numpy as np\n",
    "import random\n",
    "import matplotlib.pyplot as plt"
   ]
  },
  {
   "cell_type": "markdown",
   "metadata": {},
   "source": [
    "# Use MC to estimate pi"
   ]
  },
  {
   "cell_type": "code",
   "execution_count": 3,
   "metadata": {},
   "outputs": [
    {
     "name": "stdout",
     "output_type": "stream",
     "text": [
      "3.14776\n",
      "acceptance :  0.78694\n"
     ]
    },
    {
     "data": {
      "image/png": "[encoded data removed]",
      "text/plain": [
       "<Figure size 432x288 with 1 Axes>"
      ]
     },
     "metadata": {
      "needs_background": "light"
     },
     "output_type": "display_data"
    }
   ],
   "source": [
    "random.seed(471)\n",
    "NoInside = 0\n",
    "total = 100000\n",
    "xs_total = []\n",
    "ys_total = []\n",
    "xs_in =[]\n",
    "ys_in = []\n",
    "for i in range(0, total):\n",
    "      x =  random.uniform(0, 1)\n",
    "      y =  random.uniform(0, 1)\n",
    "      x2 = x**2\n",
    "      y2 = y**2\n",
    "      xs_total.append(x)\n",
    "      ys_total.append(y) \n",
    "      if np.sqrt(x2 + y2) < 1.0:\n",
    "          NoInside += 1\n",
    "          xs_in.append(x) \n",
    "          ys_in.append(y)   \n",
    "pi = (float(NoInside) / total) * 4\n",
    "\n",
    "print(pi)\n",
    "figure = plt.figure()\n",
    "plt.plot(xs_total,ys_total,'ro')\n",
    "plt.plot(xs_in,ys_in,'bo')\n",
    "\n",
    "\n",
    "print(\"acceptance : \",float(NoInside) / total )"
   ]
  },
  {
   "cell_type": "markdown",
   "metadata": {},
   "source": [
    "Consider this as a rejection sampling, this is a 2D rejection sampling. And proposal distribution is uniform distribution. Acceptance is 3.14336/4 (0.78694)"
   ]
  },
  {
   "cell_type": "markdown",
   "metadata": {},
   "source": [
    " # Question 3\n"
   ]
  },
  {
   "cell_type": "code",
   "execution_count": 4,
   "metadata": {},
   "outputs": [],
   "source": [
    "import numpy as np\n",
    "import numpy.random as rng\n",
    "import matplotlib.pyplot as plt\n",
    "rng.seed(471)"
   ]
  },
  {
   "cell_type": "code",
   "execution_count": 5,
   "metadata": {},
   "outputs": [
    {
     "name": "stdout",
     "output_type": "stream",
     "text": [
      "[[3]\n",
      " [1]\n",
      " [4]]\n"
     ]
    }
   ],
   "source": [
    "# Utilities of individual states (NOTE this is the _instant_ utility \n",
    "# irrespective of future, not the long-term value that depends on policy)\n",
    "U = np.array([[3,1,4]]).T\n",
    "print(U)"
   ]
  },
  {
   "cell_type": "code",
   "execution_count": 6,
   "metadata": {},
   "outputs": [
    {
     "name": "stdout",
     "output_type": "stream",
     "text": [
      "[[0.9 0.8 0. ]\n",
      " [0.1 0.1 0.8]\n",
      " [0.  0.1 0.2]] \n",
      "\n",
      " [[0.3 0.2 0. ]\n",
      " [0.7 0.1 0.2]\n",
      " [0.  0.7 0.8]]\n"
     ]
    }
   ],
   "source": [
    "# transitions if action = 'go left'\n",
    "Tleft  = np.array([[.9,.8,0],[.1,.1,.8],[0,.1,.2]])\n",
    "Tright = np.array([[.3,.2,0],[.7,.1,.2],[0,.7,.8]])\n",
    "print(Tleft, '\\n\\n', Tright)"
   ]
  },
  {
   "cell_type": "code",
   "execution_count": 7,
   "metadata": {},
   "outputs": [
    {
     "name": "stdout",
     "output_type": "stream",
     "text": [
      "initially, \n",
      " [[0.58631929]\n",
      " [0.32845926]\n",
      " [0.34022473]]\n"
     ]
    }
   ],
   "source": [
    "gamma = 0.5\n",
    "V = rng.random((3,1))  # crazy random initialisation\n",
    "print('initially, \\n',V)"
   ]
  },
  {
   "cell_type": "code",
   "execution_count": 8,
   "metadata": {},
   "outputs": [],
   "source": [
    " # the Value Iteration loop\n",
    "Vbest = -10000\n",
    "\n",
    "for t in range(50):\n",
    "    left = Tleft * U # gives the new p*V\n",
    "    right =Tright * U\n",
    "    left_total = 0\n",
    "    right_total = 0\n",
    "    \n",
    "    for row in range (len(left)-1):\n",
    "        for col in range(len(right[0])-1):\n",
    "            left_total+=left[row][col]\n",
    "            right_total+=right[row][col]\n",
    "    if left_total>right_total:\n",
    "        V = gamma*left\n",
    "    else:\n",
    "        V = gamma*right\n",
    "#     VS = V + gama * \n",
    "\n",
    "#         for a in range(env.nA):\n",
    "#             for prob, next_state, reward, done in env.P[state][a]:\n",
    "#                 A[a] += prob * (reward + discount_factor * V[next_state])\n",
    "#         return A\n",
    "    \n",
    "    \n",
    "\n",
    "    "
   ]
  },
  {
   "cell_type": "code",
   "execution_count": 9,
   "metadata": {},
   "outputs": [
    {
     "name": "stdout",
     "output_type": "stream",
     "text": [
      "finally, \n",
      " [[1.35 1.2  0.  ]\n",
      " [0.05 0.05 0.4 ]\n",
      " [0.   0.2  0.4 ]]\n"
     ]
    },
    {
     "data": {
      "image/png": "[encoded data removed]",
      "text/plain": [
       "<Figure size 432x288 with 1 Axes>"
      ]
     },
     "metadata": {
      "needs_background": "light"
     },
     "output_type": "display_data"
    }
   ],
   "source": [
    "print('finally, \\n',V)\n",
    "mybars = plt.bar(['A','B','c'], V[:,0])"
   ]
  },
  {
   "cell_type": "code",
   "execution_count": null,
   "metadata": {},
   "outputs": [],
   "source": []
  }
 ],
 "metadata": {
  "kernelspec": {
   "display_name": "Python 3",
   "language": "python",
   "name": "python3"
  },
  "language_info": {
   "codemirror_mode": {
    "name": "ipython",
    "version": 3
   },
   "file_extension": ".py",
   "mimetype": "text/x-python",
   "name": "python",
   "nbconvert_exporter": "python",
   "pygments_lexer": "ipython3",
   "version": "3.7.4"
  }
 },
 "nbformat": 4,
 "nbformat_minor": 2
}
