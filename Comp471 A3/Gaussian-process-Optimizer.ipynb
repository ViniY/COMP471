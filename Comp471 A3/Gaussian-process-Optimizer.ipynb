{
 "cells": [
  {
   "cell_type": "code",
   "execution_count": 127,
   "metadata": {},
   "outputs": [],
   "source": [
    "# the usual boilerplate stuff\n",
    "import numpy as np\n",
    "import numpy.random as rng\n",
    "import matplotlib.pyplot as plt\n",
    "from scipy.stats import norm as gaussian\n",
    "dum = plt.rcParams['text.usetex'] = True  # can use latex in figures\n",
    "np.set_printoptions(precision=3)"
   ]
  },
  {
   "cell_type": "markdown",
   "metadata": {},
   "source": [
    "# PART THREE: we use a GP to do really efficient optimization\n"
   ]
  },
  {
   "cell_type": "code",
   "execution_count": 128,
   "metadata": {},
   "outputs": [],
   "source": [
    "N=101\n",
    "X = np.linspace(-5,5,N)"
   ]
  },
  {
   "cell_type": "code",
   "execution_count": 129,
   "metadata": {},
   "outputs": [],
   "source": [
    "# the KERNEL is just a function of two points in x-space. \n",
    "# These really ought to each be vectors, but for simplicity we're playing around\n",
    "# with a 1-dimensional x-space here so they're just scalars :(   [easily fixed]\n",
    "def kernel(x1,x2,params):\n",
    "    # x1, x2 should be scalars\n",
    "    \n",
    "    d = np.abs(x1-x2)\n",
    "    \n",
    "    prior_pairwise_covar = params['theta_peak'] * np.exp(-(d/params['theta_width'])**params['exponent'])\n",
    "    if x1==x2:\n",
    "        prior_pairwise_covar += params['theta_noise'] \n",
    "    return prior_pairwise_covar\n",
    "\n",
    "#-------------------------------------------------------------------\n",
    "\n",
    "# this isn't very \"numpy\" style, but oh well!\n",
    "def makeCovMatrix(X,params):\n",
    "    N = len(X)\n",
    "    cv = np.zeros((N,N),dtype=float)\n",
    "    for i,x1 in enumerate(X):\n",
    "        for j,x2 in enumerate(X):\n",
    "            cv[i,j] = kernel(x1,x2,params)\n",
    "    return cv\n",
    "\n",
    "def prediction(x_query, X, y, params):\n",
    "    n = len(X)\n",
    "    Kvec = np.zeros(n)\n",
    "    for k in range(n):\n",
    "        Kvec[k] = kernel(X[k], x_query, params)\n",
    "\n",
    "    tmp = np.dot(Kvec,inv_cov_matrix) # used in both mean and var.\n",
    "    tmp = np.atleast_2d(tmp)\n",
    "    mu = np.dot(tmp,np.atleast_2d(y).T)[0,0]  # should be a 1x1 \"matrix\"!\n",
    "    var = params['theta_peak'] - np.dot(tmp,Kvec)[0]\n",
    "    var = max(var,0.0)\n",
    "    return(mu, var)\n"
   ]
  },
  {
   "cell_type": "markdown",
   "metadata": {},
   "source": [
    "\n",
    "\n",
    "# Gaussian Process prediction in practice"
   ]
  },
  {
   "cell_type": "code",
   "execution_count": 130,
   "metadata": {},
   "outputs": [],
   "source": [
    "# Short summary: if the data is....\n",
    "X_data = [-2.,-3,-2.5]\n",
    "def true_surface(x):\n",
    "    y = np.sin(x)\n",
    "    return y\n",
    "y_data = true_surface(X_data) #[.4,.2,.3]\n",
    "\n",
    "# and parameters are\n",
    "params = {'theta_width': 1.5, 'theta_peak': 1.0, 'theta_noise': 0.1, 'exponent': 2.0}\n",
    "# YOU CAN PLAY WITH ANY OF THOSE NUMBERS: PLEASE DO.\n",
    "# THEY ARE ASSUMPTIONS! Could be wrong for a given data set.\n",
    "#\n",
    "# theta_width controls how kernel fades with x distance\n",
    "# theta_peak controls the overall vertical (meaning y) \"scale\" of the variations\n",
    "# theta_noise is std dev of the measurement noise\n",
    "# Finally there's the exponent (try 1.0, try 2.0, or something in between)\n",
    "\n",
    "\n",
    "# just the x space for plotting...\n",
    "xs = np.linspace(-5.0,5.0,101)\n",
    "\n",
    "# and need to define an infill criterion!\n",
    "def infill_function(y_means, y_stds, y_best_so_far):\n",
    "    # dumb one\n",
    "    val = y_means + y_stds - y_best_so_far\n",
    "    # better one\n",
    "    standardized_best = (y_best_so_far - y_means)/y_stds\n",
    "    val = 1-gaussian.cdf(standardized_best)\n",
    "    return val"
   ]
  },
  {
   "cell_type": "code",
   "execution_count": 133,
   "metadata": {},
   "outputs": [
    {
     "data": {
      "image/png": "[encoded data removed]",
      "text/plain": [
       "<Figure size 432x288 with 2 Axes>"
      ]
     },
     "metadata": {
      "needs_background": "light"
     },
     "output_type": "display_data"
    }
   ],
   "source": [
    "# we make up a covariance matrix, and invert it.\n",
    "inv_cov_matrix = np.linalg.inv(makeCovMatrix(X_data,params))\n",
    "\n",
    "y_means,y_stds = np.zeros(len(xs)), np.zeros(len(xs))\n",
    "for i,x_query in enumerate(xs):\n",
    "    mu, var = prediction(x_query, X_data, y_data, params)\n",
    "    std = np.sqrt(var) + params['theta_noise']\n",
    "    y_means[i], y_stds[i] = mu, std\n",
    "    \n",
    "# Plot the GP predictions, everywhere\n",
    "plt.subplot(211)\n",
    "plt.fill_between(xs,y_means+y_stds,y_means-y_stds,alpha=.4)\n",
    "plt.plot(xs,y_means)\n",
    "plt.plot(X_data, y_data, 'or') # the data points we've observed\n",
    "\n",
    "# Find the Prob_of_Improvement, everywhere\n",
    "y_best = max(y_data)\n",
    "infill = infill_function(y_means,y_stds,y_best)\n",
    "\n",
    "plt.subplot(212)\n",
    "plt.plot(xs,infill)\n",
    "index = np.argmax(infill)\n",
    "plt.plot(xs[index],max(infill),'ok')\n",
    "\n",
    "# Add to the data set\n",
    "X_data = np.append(X_data,xs[index])\n",
    "y_data = true_surface(X_data)"
   ]
  },
  {
   "cell_type": "code",
   "execution_count": null,
   "metadata": {},
   "outputs": [],
   "source": []
  }
 ],
 "metadata": {
  "@webio": {
   "lastCommId": "c2adf0cc344d416d8e74ed1115dfd67c",
   "lastKernelId": "636d230b-6a6d-4f74-8803-c87b47a77f23"
  },
  "kernelspec": {
   "display_name": "Python 3",
   "language": "python",
   "name": "python3"
  },
  "language_info": {
   "codemirror_mode": {
    "name": "ipython",
    "version": 3
   },
   "file_extension": ".py",
   "mimetype": "text/x-python",
   "name": "python",
   "nbconvert_exporter": "python",
   "pygments_lexer": "ipython3",
   "version": "3.7.4"
  }
 },
 "nbformat": 4,
 "nbformat_minor": 1
}
