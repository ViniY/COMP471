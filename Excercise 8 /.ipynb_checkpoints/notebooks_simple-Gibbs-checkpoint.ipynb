{
 "cells": [
  {
   "cell_type": "code",
   "execution_count": 1,
   "metadata": {},
   "outputs": [],
   "source": [
    "%matplotlib inline\n",
    "import matplotlib\n",
    "import numpy as np\n",
    "import matplotlib.pyplot as plt\n",
    "import numpy.random as rng\n",
    "import math\n",
    "np.set_printoptions(precision = 2)"
   ]
  },
  {
   "cell_type": "markdown",
   "metadata": {},
   "source": [
    "## run Gibbs sampling on something simple\n"
   ]
  },
  {
   "cell_type": "code",
   "execution_count": 5,
   "metadata": {},
   "outputs": [],
   "source": [
    "def f(x): # this is our \"machine\" taking x --> p(x), but un-normalised.\n",
    "    energy = (2*x[0]-1)*(2*x[1]-1)*0.8\n",
    "    if x[1]==0: energy += x[2]-.7\n",
    "    else: energy += -2*x[2]+.4\n",
    "    px = math.exp(energy)\n",
    "    return(px)\n",
    "\n",
    "def P1(Ptilde):\n",
    "    logRatio = math.log(Ptilde[1]/Ptilde[0]) # sigmoid...\n",
    "    return(1.0/(1+math.exp(logRatio)))   # as per first part of ex.\n",
    "\n",
    "x = np.array([1,1,0])\n",
    "#print(Pmachine(x))"
   ]
  },
  {
   "cell_type": "code",
   "execution_count": 6,
   "metadata": {},
   "outputs": [
    {
     "name": "stdout",
     "output_type": "stream",
     "text": [
      "[1 1 1]\n",
      "[1 1 1]\n",
      "[1 1 1]\n",
      "[1 1 1]\n",
      "[1 1 1]\n"
     ]
    }
   ],
   "source": [
    "Ptilde = np.zeros(2)\n",
    "for i in range(5):\n",
    "    # pick a dimension to reset\n",
    "    j = rng.randint(3)\n",
    "\n",
    "    # pick a new value, conditioning on the other dimensions\n",
    "    # first, we find the two probabilities (not necessarily normalised ones)\n",
    "    x[j]=0; Ptilde[0]=f(x);\n",
    "    x[j]=1; Ptilde[1]=f(x);\n",
    "    # then we choose a replacement value\n",
    "    x[j] = 1*(rng.random() < P1(Ptilde))\n",
    "    print(x)"
   ]
  },
  {
   "cell_type": "code",
   "execution_count": null,
   "metadata": {},
   "outputs": [],
   "source": []
  }
 ],
 "metadata": {
  "kernelspec": {
   "display_name": "Python 3",
   "language": "python",
   "name": "python3"
  },
  "language_info": {
   "codemirror_mode": {
    "name": "ipython",
    "version": 3
   },
   "file_extension": ".py",
   "mimetype": "text/x-python",
   "name": "python",
   "nbconvert_exporter": "python",
   "pygments_lexer": "ipython3",
   "version": "3.7.4"
  }
 },
 "nbformat": 4,
 "nbformat_minor": 1
}
