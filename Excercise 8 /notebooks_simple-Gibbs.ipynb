{
 "cells": [
  {
   "cell_type": "code",
   "execution_count": 43,
   "metadata": {},
   "outputs": [],
   "source": [
    "%matplotlib inline\n",
    "import matplotlib\n",
    "import numpy as np\n",
    "import matplotlib.pyplot as plt\n",
    "import numpy.random as rng\n",
    "import math\n",
    "np.set_printoptions(precision = 2)"
   ]
  },
  {
   "cell_type": "markdown",
   "metadata": {},
   "source": [
    "## run Gibbs sampling on something simple\n"
   ]
  },
  {
   "cell_type": "code",
   "execution_count": 97,
   "metadata": {},
   "outputs": [],
   "source": [
    "def f(x): # this is our \"machine\" taking x --> p(x), but un-normalised.\n",
    "    energy = (2*x[0]-1)*(2*x[1]-1)*0.8\n",
    "    if x[1]==0: energy += x[2]-.7\n",
    "    else: energy += -2*x[2]+.4\n",
    "    px = math.exp(energy)\n",
    "    return(px)\n",
    "\n",
    "def P1(Ptilde):\n",
    "#     print(\"*\" *40)\n",
    "#     print(Ptilde)\n",
    "    logRatio = math.log(Ptilde[1]/Ptilde[0]) # sigmoid...\n",
    "    print((1.0/(1+math.exp(logRatio))) )\n",
    "\n",
    "    return(1.0/(1+math.exp(logRatio)))   # as per first part of ex.\n",
    "\n",
    "\n",
    "\n",
    "# print(Pmachine(x))"
   ]
  },
  {
   "cell_type": "code",
   "execution_count": 98,
   "metadata": {
    "scrolled": true
   },
   "outputs": [
    {
     "name": "stdout",
     "output_type": "stream",
     "text": [
      "****************************************\n",
      " j : 0\n",
      "0.16798161486607546\n",
      "True\n",
      "[0 1 0]\n",
      "****************************************\n",
      " j : 2\n",
      "0.8807970779778825\n",
      "True\n",
      "[0 1 1]\n",
      "****************************************\n",
      " j : 1\n",
      "0.9706877692486436\n",
      "True\n",
      "[0 1 1]\n",
      "****************************************\n",
      " j : 2\n",
      "0.8807970779778825\n",
      "True\n",
      "[0 1 1]\n",
      "****************************************\n",
      " j : 2\n",
      "0.8807970779778825\n",
      "True\n",
      "[0 1 0]\n",
      "****************************************\n",
      " j : 2\n",
      "0.8807970779778825\n",
      "True\n",
      "[0 1 1]\n",
      "****************************************\n",
      " j : 2\n",
      "0.8807970779778825\n",
      "True\n",
      "[0 1 1]\n",
      "****************************************\n",
      " j : 0\n",
      "0.16798161486607546\n",
      "False\n",
      "[0 1 1]\n"
     ]
    }
   ],
   "source": [
    "# x = np.array([1,1,0])\n",
    "\n",
    "Ptilde = np.zeros(2)\n",
    "for i in range(8):\n",
    "    print(\"*\" *40)\n",
    "    # pick a dimension to reset\n",
    "    j = rng.randint(3)\n",
    "    print(\" j :\", j)\n",
    "    # pick a new value, conditioning on the other dimensions\n",
    "    # first, we find the two probabilities (not necessarily normalised ones)\n",
    "    x[j]=0; Ptilde[0]=f(x);\n",
    "    x[j]=1; Ptilde[1]=f(x);\n",
    "    # then we choose a replacement value\n",
    "    temp =P1(Ptilde)\n",
    "    print(rng.random() < temp)\n",
    "    x[j] = 1*(rng.random() < temp)\n",
    "\n",
    "    print(x)"
   ]
  },
  {
   "cell_type": "code",
   "execution_count": 71,
   "metadata": {},
   "outputs": [
    {
     "name": "stdout",
     "output_type": "stream",
     "text": [
      "1\n"
     ]
    }
   ],
   "source": [
    "print(1*(True))"
   ]
  },
  {
   "cell_type": "code",
   "execution_count": null,
   "metadata": {},
   "outputs": [],
   "source": []
  }
 ],
 "metadata": {
  "kernelspec": {
   "display_name": "Python 3",
   "language": "python",
   "name": "python3"
  },
  "language_info": {
   "codemirror_mode": {
    "name": "ipython",
    "version": 3
   },
   "file_extension": ".py",
   "mimetype": "text/x-python",
   "name": "python",
   "nbconvert_exporter": "python",
   "pygments_lexer": "ipython3",
   "version": "3.7.4"
  }
 },
 "nbformat": 4,
 "nbformat_minor": 1
}
