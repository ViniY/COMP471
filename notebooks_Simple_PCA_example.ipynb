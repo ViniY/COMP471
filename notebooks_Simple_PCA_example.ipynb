{
 "cells": [],
 "metadata": {
  "kernelspec": {
   "display_name": "Python 3",
   "language": "python",
   "name": "python3"
  },
  "language_info": {
   "codemirror_mode": {
    "name": "ipython",
    "version": 3
   },
   "file_extension": ".py",
   "mimetype": "text/x-python",
   "name": "python",
   "nbconvert_exporter": "python",
   "pygments_lexer": "ipython3",
   "version": "3.6.1"
  },
  "pycharm": {
   "stem_cell": {
    "cell_type": "raw",
    "source": [
     "\n",
     "import numpy as np\n",
     "import matplotlib.pyplot as plt\n",
     "\n",
     "\n",
     "\n",
     "N = 100\n",
     "xTrue = np.linspace(0, 1000, N)\n",
     "yTrue = 3 * xTrue\n",
     "xData = xTrue + np.random.normal(0, 100, N)\n",
     "yData = yTrue + np.random.normal(0, 100, N)\n",
     "xData = np.reshape(xData, (N, 1))\n",
     "yData = np.reshape(yData, (N, 1))\n",
     "data = np.hstack((xData, yData))\n",
     "\n",
     "# We first move the data so that it has mean of zero in each dimension\n",
     "mu = data.mean(axis=0)\n",
     "data = data - mu\n",
     "\n",
     "print(\"data has shape \",data.shape)\n",
     "print(data[0:5,:]) # the first few rows of the data matrix\n",
     "\n",
     "\n",
     "\n",
     "eigenvectors, eigenvalues, V = np.linalg.svd(data.T, full_matrices=False)\n",
     "projected_data = np.dot(data, eigenvectors)\n",
     "sigma = projected_data.std(axis=0).mean()\n",
     "print(\"Here are the eigenvectors found using np.linalg.svd:\")\n",
     "print(eigenvectors)\n",
     "print(\"The eigenvalues are:\")\n",
     "print(eigenvalues)\n",
     "\n",
     "\n",
     "\n",
     "fig, ax = plt.subplots()\n",
     "ax.scatter(xData, yData)\n",
     "for axis in eigenvectors:\n",
     "    start, end = mu, mu + sigma * axis\n",
     "    ax.annotate(\n",
     "        '', xy=end, xycoords='data',\n",
     "        xytext=start, textcoords='data',\n",
     "        arrowprops=dict(facecolor='red', width=2.0))\n",
     "ax.set_aspect('equal')\n",
     "plt.show()\n",
     "\n"
    ],
    "metadata": {
     "collapsed": false
    }
   }
  }
 },
 "nbformat": 4,
 "nbformat_minor": 1
}