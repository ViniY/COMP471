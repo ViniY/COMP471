{
 "cells": [
  {
   "cell_type": "markdown",
   "metadata": {},
   "source": [
    "# COMP471 Assignment 2"
   ]
  },
  {
   "cell_type": "markdown",
   "metadata": {},
   "source": [
    "# Question 1(11.9)\n",
    "\n",
    "Please check the hand writting pics, page 1 and 2 for this question. :)"
   ]
  },
  {
   "cell_type": "code",
   "execution_count": 218,
   "metadata": {},
   "outputs": [
    {
     "name": "stdout",
     "output_type": "stream",
     "text": [
      "     x  y\n",
      "0    1  0\n",
      "1    1  3\n",
      "2    3  0\n",
      "3    3  3\n",
      "4    5  0\n",
      "5    5  3\n",
      "6    7  0\n",
      "7    7  3\n",
      "8    9  0\n",
      "9    9  3\n",
      "10  11  0\n",
      "11  11  3\n",
      "12  13  0\n",
      "13  13  3\n",
      "14  15  0\n",
      "15  15  3\n",
      "16  17  0\n",
      "17  17  3\n"
     ]
    }
   ],
   "source": [
    "from pandas import DataFrame\n",
    "import numpy as np\n",
    "import math\n",
    "\n",
    "Data = {'x': [1,1,3,3,5,5,7,7,9,9,11,11,13,13,15,15,17,17],\n",
    "        'y': [0,3,0,3,0,3,0,3,0,3,0,3,0,3,0,3,0,3]\n",
    "       }\n",
    "  \n",
    "df = DataFrame(Data,columns=['x','y'])\n",
    "print (df)"
   ]
  },
  {
   "cell_type": "markdown",
   "metadata": {},
   "source": [
    "Iteration 1.\n",
    "Step 1 :Compute Euclidean distances\n",
    "Centroid : (9,0), (11,0)\n",
    "\n",
    "$$ED1 =[8.0, 8.544, 6.0, 6.708, 4.0, 5.0, 2.0, 3.606, 0.0, 3.0, 2.0, 3.606, 4.0, 5.0, 6.0, 6.708, 8.0, 8.544]$$\n",
    "$$ED2 = [10.0, 10.44, 8.0, 8.544, 6.0, 6.708, 4.0, 5.0, 2.0, 3.606, 0.0, 3.0, 2.0, 3.606, 4.0, 5.0, 6.0, 6.708]$$\n",
    "\n",
    "| index/distances | Data | ED1 | ED2 | cluster chosen|\n",
    "| ------ | --- | --- | --- | --- |\n",
    "| 0 | (1,0) |8.0 | 10.0 | 1|\n",
    "| 1 | (1,3) |8.544 | 10.44 | 1|\n",
    "| 2 | (3,0) |6.0 | 8.0 | 1|\n",
    "| 3 | (3,3) | 6.708|8.544| 1 |\n",
    "| 4 | (5,0) | 4.0 | 6.0 | 1 |\n",
    "| 5 | (5,3) | 5.0 | 6.708| 1 |\n",
    "| 6 | (7,0) | 2.0 | 4.0 | 1 | 1 |\n",
    "| 7 | (7,3) |  3.606 | 5.0 | 1 |\n",
    "| 8 | (9,0) | 0.0 | 2.0 | 1 |\n",
    "| 9 | (9,3) | 3.0 | 3.606 | 1 |\n",
    "| 10 | (11,0) | 2.0 | 0.0 | 2 | \n",
    "| 11 | (11,3) | 3.606| 3.0 | 2 |\n",
    "| 12 | (13,0) | 4.0 | 2.0 | 2 |\n",
    "| 13 | (13,3) | 5.0 | 3.606 | 2 |\n",
    "| 14 | (15,0) | 6.0 | 4.0 | 2 | \n",
    "| 15 | (15,3) | 6.708 | 5.0 | 2 |\n",
    "| 16 | (17,0) | 8.0 | 6.0 | 2 |\n",
    "| 17 | (17,3) | 8.544 | 6.708 | 2 |\n",
    "\n",
    "Step 2: Assign instances to cluster\n",
    "alread did in the table\n",
    "\n",
    "Step 3: calculate the mean of each cluster and compute ED again\n",
    "The mean for cluster1 : (5.0,1.5)\n",
    "The mean for cluster2 : (14,1.5)\n",
    "$$ED1 =[4.272, 4.272, 2.5, 2.5, 1.5, 1.5, 2.5, 2.5, 4.272, 4.272, 6.185, 6.185, 8.139, 8.139, 10.112, 10.112, 12.093, 12.093]$$\n",
    "$$ED2 = [13.086, 13.086, 11.102, 11.102, 9.124, 9.124, 7.159, 7.159, 5.22, 5.22, 3.354, 3.354, 1.803, 1.803, 1.803, 1.803, 3.354, 3.354]$$\n",
    "\n",
    "TABLE FOR Iteration 2\n",
    "\n",
    "| index/distances | Data | ED1 | ED2 | cluster chosen|\n",
    "| ------ | --- | --- | --- | --- |\n",
    "| 0 | (1,0) |4.272 | 13.086 | 1|\n",
    "| 1 | (1,3) |4.272 | 13.086 | 1|\n",
    "| 2 | (3,0) | 2.5  | 11.102 | 1|\n",
    "| 3 | (3,3) | 2.5  | 11.102 | 1|\n",
    "| 4 | (5,0) | 1.5 | 9.124 | 1 |\n",
    "| 5 | (5,3) | 1.5 | 9.124| 1 |\n",
    "| 6 | (7,0) | 2.5 | 7.159 | 1 | 1 |\n",
    "| 7 | (7,3) | 2.5 | 7.159 | 1 |\n",
    "| 8 | (9,0) | 4.272 | 5.22 | 1 |\n",
    "| 9 | (9,3) | 4.272 | 5.22 | 1 |\n",
    "| 10 | (11,0) | 6.185 | 3.354 | 2 | \n",
    "| 11 | (11,3) | 6.185| 3.354 | 2 |\n",
    "| 12 | (13,0) | 8.139 | 1.803 | 2 |\n",
    "| 13 | (13,3) | 8.139 | 1.803 | 2 |\n",
    "| 14 | (15,0) | 10.112 | 1.803 | 2 | \n",
    "| 15 | (15,3) | 10.112 | 1.803 | 2 |\n",
    "| 16 | (17,0) | 12.093 | 3.354 | 2 |\n",
    "| 17 | (17,3) | 12.093 | 3.354 | 2 |\n",
    "\n",
    "Compute the new mean:\n",
    "The new mean is the same so stop here.$$$$\n",
    "The two clusters are (5.0, 1.5) and (14.0 , 1.5)\n",
    "\n"
   ]
  },
  {
   "cell_type": "code",
   "execution_count": 106,
   "metadata": {},
   "outputs": [],
   "source": [
    "##compute ED\n",
    "def computeED1(Centroid1,Centroid2, data):\n",
    "    ed1=[]\n",
    "    ed2=[]\n",
    "    for (x,y) in data:\n",
    "        ed = np.round(np.sqrt((x-Centroid1[0])**2 + (y-Centroid1[1])**2),3)\n",
    "        ed1.append(ed)\n",
    "        edd =np.round(np.sqrt((x-Centroid2[0])**2 + (y-Centroid2[1])**2),3)\n",
    "        ed2.append(edd)\n",
    "        \n",
    "    return ed1,ed2\n",
    "        "
   ]
  },
  {
   "cell_type": "code",
   "execution_count": 107,
   "metadata": {},
   "outputs": [],
   "source": [
    "def computeMean(data):\n",
    "    xmean=0\n",
    "    ymean=0\n",
    "    for d in data:\n",
    "        xmean = xmean + d[0]\n",
    "        ymean = ymean + d[1]\n",
    "    xmean = xmean/len(data)\n",
    "    ymean = ymean/len(data)\n",
    "    return xmean,ymean\n",
    "        "
   ]
  },
  {
   "cell_type": "code",
   "execution_count": 108,
   "metadata": {},
   "outputs": [],
   "source": [
    "def clustering(data,ed1,ed2):\n",
    "    data1=[]\n",
    "    data2=[]\n",
    "    for i in range(len(ed1)):\n",
    "        if ed1[i] <= ed2[i]:\n",
    "            data1.append(data[i])\n",
    "        else:\n",
    "            data2.append(data[i])\n",
    "#     print(data1)\n",
    "    return data1,data2\n",
    "            \n",
    "    \n",
    "    \n",
    "    "
   ]
  },
  {
   "cell_type": "code",
   "execution_count": 109,
   "metadata": {},
   "outputs": [
    {
     "name": "stdout",
     "output_type": "stream",
     "text": [
      "<class 'list'>\n",
      "<class 'list'>\n"
     ]
    }
   ],
   "source": [
    "Data = [(1,0),(1,3),(3,0),(3,3),(5,0),(5,3),\n",
    "       (7,0),(7,3),(9,0),(9,3),(11,0),(11,3),\n",
    "       (13,0),(13,3),(15,0),(15,3),(17,0),(17,3)]\n",
    "ed1,ed2 = computeED([9,0],[11,0],Data)\n",
    "data1,data2 = clustering(Data,ed1,ed2)\n",
    "xmean1,ymean1 = computeMean(data1)\n",
    "xmean2,ymean2 = computeMean(data2)\n",
    "#iteration 2:\n",
    "ed1,ed2 = computeED([5.0,1.5],data=Data,Centroid2=[14,1.5])\n",
    "# print(ed1)\n",
    "# print(ed2)\n",
    "\n"
   ]
  },
  {
   "cell_type": "markdown",
   "metadata": {},
   "source": [
    "# Question 11.7"
   ]
  },
  {
   "cell_type": "markdown",
   "metadata": {},
   "source": [
    "Please check the hand writting pic, thanks! :) \n",
    "Page 3."
   ]
  },
  {
   "cell_type": "markdown",
   "metadata": {},
   "source": [
    "# EM with a few labeled data"
   ]
  },
  {
   "cell_type": "markdown",
   "metadata": {},
   "source": [
    "The most straight forward change can be that it will change the R matrix. Like in question 11.7.\n",
    "The R matrix can be like :\n",
    "\n",
    "|c1|c2|\n",
    "|--|--|\n",
    "|0 | 1|\n",
    "|1 | 0|\n",
    "|0 | 1|\n",
    "\n",
    "If the three instances are all labeled. \n",
    "\n",
    "EM with semi-supervised learning. It could add another parameter which is the class label.\n",
    "For example in clustering, the labeled data will have classlabel(which claster should be assigned to) like 1,2,3,...etc\n",
    "And the unlabeled data will have 0 for this parameter. And the idea of E and M steps are still the same. \n",
    "I think it will only affect the log-likelihood, which leads to little bit more terms to calculate in E steps.\n",
    "I also did some math may can expain more about it, I hope it can make sense, please check the handwritting pic(page 4). :D\n",
    "\n"
   ]
  },
  {
   "cell_type": "markdown",
   "metadata": {},
   "source": [
    "# Try everything "
   ]
  },
  {
   "cell_type": "markdown",
   "metadata": {},
   "source": [
    "In practical if we are using 'try everthing' to determine the value for K, it will cost lots money and time for sure. In real world, the data could have high dimensionality, as the curese of dimensionality mentioned the computation cost could increase exponentially with high dimensionality. And we need to calculate the ML for each K, it will absolutely consume lots resources and time. The next couple blocks using the data generate by make-Gaussian-Mixture-data.py. \n",
    "\n",
    "I tried iterative k from 1 to 50, most time the best number of components end up around 50, which means the more cluster we have the greater logL will be. We all know this could cause a really bad overfitting problem. \n",
    "\n",
    "| number of components| best Logl | \n",
    "|----|----|\n",
    "|1 |-6034.9212441318705|\n",
    "|2 |-5993.038972095314 |\n",
    "|..|.....|\n",
    "|45|-5736.176446920545|\n",
    "|46|-5718.4514769372145|\n",
    "|..|.....|\n",
    "|50| -5709.020801617224|\n",
    "\n",
    "The table shows the best Logl occurs at 50 components."
   ]
  },
  {
   "cell_type": "code",
   "execution_count": 259,
   "metadata": {},
   "outputs": [],
   "source": [
    "%matplotlib inline\n",
    "import sys, math\n",
    "from pylab import *\n",
    "import numpy as np\n",
    "import numpy.random as rng\n",
    "import numpy.linalg as linalg\n",
    "from matplotlib.patches import Ellipse\n",
    "MAX_NUM_COMPONENTS = 1000\n",
    "global GBestLogl\n",
    "global kbest\n",
    "randColor = rng.random((MAX_NUM_COMPONENTS,3))\n",
    "randColor = randColor/randColor.sum(1).reshape(MAX_NUM_COMPONENTS,1)"
   ]
  },
  {
   "cell_type": "code",
   "execution_count": 260,
   "metadata": {},
   "outputs": [],
   "source": [
    "def plotEllipse(pos,P,edge,face,transparency):\n",
    "    U, s , Vh = svd(P)\n",
    "    orient = math.atan2(U[1,0],U[0,0])*180/pi\n",
    "    ellipsePlot = Ellipse(xy=pos, width=2.0*math.sqrt(s[0]),\n",
    "                          height=2.0*math.sqrt(s[1]), angle=orient,\n",
    "                          facecolor=face,edgecolor=None,alpha=np.power(transparency,0.5), \n",
    "                          zorder=10)\n",
    "    ax = gca()\n",
    "    ax.add_patch(ellipsePlot)\n",
    "    return ellipsePlot"
   ]
  },
  {
   "cell_type": "code",
   "execution_count": 285,
   "metadata": {},
   "outputs": [],
   "source": [
    "def GaussianDensity(d,mu,v):\n",
    "    \"\"\"\n",
    "    returns the prob of data d (matrix with items as rows), under the\n",
    "    Gaussian given by mu (vector) and var (matrix)\n",
    "    \"\"\"\n",
    "    NUM_ITEMS,NUM_DIMS = d.shape\n",
    "#     p=-1\n",
    "#     try:\n",
    "    DETv = linalg.det(v)\n",
    "       \n",
    "    normalisation = pow(2*math.pi,len(mu)/2) * math.sqrt(DETv)\n",
    "#     except ValueError:\n",
    "#         pass\n",
    " \n",
    "\n",
    "\n",
    "    xx = d-mu  # xx is the deviations of the data from mu\n",
    "    # nb: xx  will be matrix with shape [NUM_ITEMS,NUM_DIMS]\n",
    "    yy = np.dot(linalg.inv(v), xx.transpose()).transpose()\n",
    "    s = np.zeros(NUM_ITEMS, float)\n",
    "    for d in range(NUM_DIMS):\n",
    "        s = s + xx[:,d] * yy[:,d]    # no doubt there's a more numpoid way but anyways.\n",
    "    p = np.exp(-0.5*s)/normalisation \n",
    "    if any(p) == 0.0:\n",
    "        sys.exit('a probability went to zero')\n",
    "#     except ValueError :\n",
    "#          return p =-1\n",
    "        \n",
    "    return p"
   ]
  },
  {
   "cell_type": "code",
   "execution_count": 286,
   "metadata": {},
   "outputs": [],
   "source": [
    "def calc_logL_one_component(datas, mu, var):\n",
    "    logL = np.sum( np.log( GaussianDensity(datas, mu, var)))\n",
    "    return logL"
   ]
  },
  {
   "cell_type": "code",
   "execution_count": 287,
   "metadata": {},
   "outputs": [],
   "source": [
    "def do_one_step_EM(mix_coeff, means, variances, data, FORCE_DIAGONAL_COV):\n",
    "    start_mix_coeff, start_means, start_variances =  mix_coeff, means, variances\n",
    "\n",
    "    MIN_VARIANCE = 0.2    # attempts to prevent variance dropping to zero...\n",
    "    NUM_DATA_DIM,NUM_COMPONENTS = means.shape\n",
    "    NUM_DATA_ITEMS = len(data)\n",
    "    r = 1.0* np.ones((NUM_DATA_ITEMS,NUM_COMPONENTS))     # start off all the same\n",
    "    # E step___________________________________________________\n",
    "    # Evaluate the responsibilities using the current parameter values.\n",
    "    for k in range(NUM_COMPONENTS):\n",
    "        if all(np.ravel(variances[:,:,k]) == 0.0):\n",
    "            print ('******** oops: all of the variances for component %d are zero!' % (k))\n",
    "            print ( variances)\n",
    "            sys.exit()\n",
    "        r[:,k] = mix_coeff[k] * GaussianDensity(data, means[:,k], variances[:,:,k])\n",
    "    r_sum = r.sum(1)\n",
    "    if any(r_sum <= 0.0):\n",
    "        print ( 'Ouch: an entry in r_sum was not positive, but they all should be.' )\n",
    "        print ( 'Whole r was ' )\n",
    "        for ind,rr in enumerate(r):\n",
    "            print ( ind, '   :   ', rr)\n",
    "        print ( 'r_sum is ', r_sum)\n",
    "        print ( '\\nWhole means was') \n",
    "        for ind,m in enumerate(means):\n",
    "            print (ind, '   :   ',m)\n",
    "        sys.exit()\n",
    "    # gamma is 'responsibility', or r normalised, as per Bishop\n",
    "    gamma = (r.transpose() / r_sum).transpose()\n",
    "    gamma_sums = gamma.sum(0) #ie. summed over the 0-th dimension\n",
    "\n",
    "    # M step___________________________________________________\n",
    "    for k in range(NUM_COMPONENTS):\n",
    "        g = (data.transpose() * gamma[:,k]).sum(1)\n",
    "        # update the means\n",
    "        means[:,k] = g / gamma_sums[k]\n",
    "        # update the mixing coefficient\n",
    "        mix_coeff[k] = gamma_sums[k]/sum(gamma_sums)\n",
    "        # update the (co)variances\n",
    "        x = data - means[:,k]\n",
    "        V = 1.0*np.eye(NUM_DATA_DIM)\n",
    "        for i in range(NUM_DATA_DIM):\n",
    "            for j in range(NUM_DATA_DIM):\n",
    "                V[i,j] = sum(x[:,i]*x[:,j] * gamma[:,k])\n",
    "        if FORCE_DIAGONAL_COV:\n",
    "            for i in range(NUM_DATA_DIM):\n",
    "                for j in range(NUM_DATA_DIM):\n",
    "                    if (i != j): V[i,j]=0.0\n",
    "        # Try to pevent variances collapsing to zero, along the diagonal...\n",
    "        for i in range(NUM_DATA_DIM):\n",
    "            V[i,i] = max(V[i,i], MIN_VARIANCE)\n",
    "        variances[:,:,k] = V / gamma_sums[k]\n",
    "    logL = np.log(r_sum).sum() # that was easy!\n",
    "    return [mix_coeff, means, variances, logL]"
   ]
  },
  {
   "cell_type": "code",
   "execution_count": 291,
   "metadata": {},
   "outputs": [],
   "source": [
    "def run_EM_MoG(NUM_RESTARTS,data,NUM_COMPONENTS,NUM_EM_ITERATIONS=10,FORCE_DIAGONAL_COV=False, out_stem=''):\n",
    "    (NUM_DATA_ITEMS,NUM_DATA_DIM) = data.shape\n",
    "    bestk =0\n",
    "    if NUM_COMPONENTS > MAX_NUM_COMPONENTS:\n",
    "        sys.exit('you need to increase MAX_NUM_COMPONENTS')\n",
    "\n",
    "    best_logL = -1000000.0\n",
    "    for restart in range(NUM_RESTARTS):\n",
    "        # Set initial guestimates for means, variances, and mixture coefficients\n",
    "        means = np.zeros((NUM_DATA_DIM,NUM_COMPONENTS),float)   # centers start off\n",
    "        used = []\n",
    "        \n",
    "        for k in range(NUM_COMPONENTS):           \n",
    "            n = rng.randint(NUM_DATA_ITEMS) # on randomly chosen data points\n",
    "            while (n in used):\n",
    "                n = rng.randint(NUM_DATA_ITEMS) # on randomly chosen data points\n",
    "            used.append(n)\n",
    "            means[:,k] = data[n,:]\n",
    "\n",
    "        variances = 1.0*np.ones((NUM_DATA_DIM,NUM_DATA_DIM,NUM_COMPONENTS),float)     # initial variances\n",
    "        for k in range(NUM_COMPONENTS):                     # start off spherical\n",
    "            variances[:,:,k] = np.eye(NUM_DATA_DIM)          \n",
    "        mix_coeff = np.ones((NUM_COMPONENTS),float)/NUM_COMPONENTS          # mixing coefficients\n",
    "\n",
    "        prev_logL = -100000000000.0\n",
    "        for iteration in range(NUM_EM_ITERATIONS+1):\n",
    "            try :\n",
    "                [mix_coeff, means, variances, logL] = do_one_step_EM(mix_coeff, means, variances,data,FORCE_DIAGONAL_COV)\n",
    "            except ValueError:\n",
    "                pass\n",
    "            \n",
    "            #print '\\t after iteration %3d updates, logL %12.6f' % (iteration,logL)\n",
    "            if (logL - prev_logL < -0.01):\n",
    "                print (\"------------------------The log likelihood just went DOWN!---------\")\n",
    "                print ('means: ', means)\n",
    "                print ('variances: ')\n",
    "                for k in range(NUM_COMPONENTS):\n",
    "                    print (np.diag(variances[:,:,k]))\n",
    "                print ( 'coefficients: ', mix_coeff)\n",
    "                sys.exit(0)\n",
    "            prev_logL = logL\n",
    "#         print ( '\\t FINAL model in restart #%d: logL %12.6f' % (restart,logL))\n",
    "        if (logL > best_logL):\n",
    "#             GBestLogl = logL\n",
    "#             kbest = NUM_COMPONENTS\n",
    "            best_logL = logL\n",
    "            best_model = [mix_coeff, means, variances, logL]\n",
    "            \n",
    "    # END OF THE EM LOOP____________________________________________\n",
    "#     print ('Best model found in %d restarts has logL=%12.6f' % (NUM_RESTARTS,best_logL))\n",
    "    return best_model"
   ]
  },
  {
   "cell_type": "code",
   "execution_count": 292,
   "metadata": {},
   "outputs": [
    {
     "name": "stdout",
     "output_type": "stream",
     "text": [
      "best value for k 50\n"
     ]
    }
   ],
   "source": [
    "GBestLogl = -10000\n",
    "kbest = 0\n",
    "np.random.seed(471)\n",
    "for NUM_COMPONENTS in range(50):\n",
    "    \n",
    "    NUM_COMPONENTS = NUM_COMPONENTS+1 \n",
    "#     print(\"NUM_COMPONENTS : \" , NUM_COMPONENTS)\n",
    "    NUM_EM_ITERATIONS = 30\n",
    "    infile = 'test-MoG.csv'\n",
    "    out_stem = infile.split('.')[0]\n",
    "    \n",
    "    NUM_RESTARTS = 1 # set higher if you want to avoid local optima.\n",
    "\n",
    "    data = np.genfromtxt(infile, float) #, unpack=True)\n",
    "    NUM_DATA_ITEMS,NUM_DATA_DIM = data.shape\n",
    "    #print(NUM_DATA_ITEMS)\n",
    "    [mix_coeff, means, variances, logL,] = run_EM_MoG(NUM_RESTARTS,data,NUM_COMPONENTS,NUM_EM_ITERATIONS,False,out_stem)\n",
    "    if logL > GBestLogl:\n",
    "        kbest = NUM_COMPONENTS\n",
    "        GBestLogl = logL\n",
    "#     print(\"Curretly we have : \" , NUM_COMPONENTS,\" Components and the best logl is : \", logL)\n",
    "#     print(\"Curretly best K : \",kbest )\n",
    "print(\"best value for k\", kbest)\n"
   ]
  },
  {
   "cell_type": "markdown",
   "metadata": {},
   "source": [
    "# Flatten out"
   ]
  },
  {
   "cell_type": "markdown",
   "metadata": {},
   "source": [
    "I think it should work for k has small values.\n",
    "I tried with k from 3 to 5 and 10 to 15. It works for 3-5. The flatten part starts from the true k value, and increases after.\n",
    "But I tried it with k=10(for fake data), but -logL keeps dropping in the graph. (The graph plotting using negative logL)\n",
    "\n",
    "We still can find the slope of the logL become smaller for greater number of clusters. I think we can use some termination condition(like maybe gradient termination). But I think this is quite tricky, because I already know what number of clusters it should be? \n"
   ]
  },
  {
   "cell_type": "code",
   "execution_count": 297,
   "metadata": {
    "scrolled": false
   },
   "outputs": [
    {
     "name": "stdout",
     "output_type": "stream",
     "text": [
      "best value for k 30\n",
      "Gradient of Logls for different K(increase from 0 to 30) : [-40.056 -56.431 -28.726 -27.037 -31.669  -3.489  -0.695  -3.071 -13.564\n",
      "  -8.356  -7.532  -0.378  -2.227  -7.511  -1.303  -4.071  -3.945  -1.243\n",
      "  -6.686  -7.405  -1.115   2.319  -6.982 -15.003   0.443   9.249  -7.52\n",
      "  -6.664  -0.524  -5.961]\n"
     ]
    },
    {
     "data": {
      "image/png": "[encoded data removed]",
      "text/plain": [
       "<Figure size 432x288 with 1 Axes>"
      ]
     },
     "metadata": {
      "needs_background": "light"
     },
     "output_type": "display_data"
    }
   ],
   "source": [
    "import matplotlib.pyplot as plt\n",
    "Cluster_MAX = 30 # The number of clusters\n",
    "GBestLogl = -10000\n",
    "kbest = 0\n",
    "logLs = []\n",
    "for NUM_COMPONENTS in range(Cluster_MAX):\n",
    "    np.random.seed(NUM_COMPONENTS)\n",
    "    NUM_COMPONENTS = NUM_COMPONENTS+1 \n",
    "#     print(\"NUM_COMPONENTS : \" , NUM_COMPONENTS)\n",
    "    NUM_EM_ITERATIONS = 30\n",
    "    infile = 'test-MoG10.csv'\n",
    "    out_stem = infile.split('.')[0]\n",
    "    \n",
    "    NUM_RESTARTS = 1 # set higher if you want to avoid local optima.\n",
    "\n",
    "    data = np.genfromtxt(infile, float) #, unpack=True)\n",
    "    NUM_DATA_ITEMS,NUM_DATA_DIM = data.shape\n",
    "    #print(NUM_DATA_ITEMS)\n",
    "    [mix_coeff, means, variances, logL] = run_EM_MoG(NUM_RESTARTS,data,NUM_COMPONENTS,NUM_EM_ITERATIONS,False,out_stem)\n",
    "    logLs.append(-logL) \n",
    "    if logL > GBestLogl:\n",
    "        kbest = NUM_COMPONENTS\n",
    "        GBestLogl = logL\n",
    "        \n",
    "#     print(\"Curretly we have : \" , NUM_COMPONENTS,\" Components and the best logl is : \", logL)\n",
    "print(\"best value for k\", kbest)\n",
    "\n",
    "markers_on = range(1,Cluster_MAX)\n",
    "figure = plt.figure()\n",
    "plt.plot(logLs,'-gD',markevery=markers_on)\n",
    "plt.xlabel('number of clusters', fontsize=18)\n",
    "plt.ylabel('best LogL', fontsize=16)\n",
    "\n",
    "\n",
    "\n",
    "f = np.array(logLs, dtype = float)\n",
    "print(\"Gradient of Logls for different K(increase from 0 to 30) :\",np.round(np.gradient(f),3))\n",
    "gradient_k = np.round(np.gradient(f),3)\n",
    "# Maybe add some termination on gradient? \n",
    "\n"
   ]
  },
  {
   "cell_type": "markdown",
   "metadata": {},
   "source": [
    "Actually I think for choosing K value, the book gives a interesting and efficient way to do this (Grow GMMs). The heuristic will split the cluster which has the highest score based on its mixture weight. I think in this way we do not need to consider the inital value for K. And consider the new scores if the score is too small then the new cluster is removed and keep the old splitting. The book mentioned the original paper of this heuristic, I think I should have a look later."
   ]
  },
  {
   "cell_type": "markdown",
   "metadata": {},
   "source": [
    " ## Based on density:\n",
    "$$$$\n",
    "I think this should work. Because fundamentally the GMM is an algorithm of density estimation. And we do not need to determine the value for K.\n",
    "GMM is a generative model, and if we want it fit with the given data, it actually describing the distribution of the given data, and this could give the optimal number of components. \n"
   ]
  },
  {
   "cell_type": "markdown",
   "metadata": {},
   "source": [
    "# PCA (probabilistically)"
   ]
  },
  {
   "cell_type": "markdown",
   "metadata": {},
   "source": [
    "Wirtten by hand please check from page5 to 6"
   ]
  },
  {
   "cell_type": "markdown",
   "metadata": {},
   "source": [
    "The graph following I just compare between Lapace distribution and gaussian with the same precision of (sqrt(2)).\n",
    "More density around zero for laplace distribution than gaussian, but it the density faded much faster than gaussian. I think from the graph and my first thought, the M step should change. Due to the higher mode.\n"
   ]
  },
  {
   "cell_type": "code",
   "execution_count": 236,
   "metadata": {},
   "outputs": [],
   "source": [
    "import matplotlib.pyplot as plt\n",
    "import numpy as np\n",
    "import scipy.stats as stats\n",
    "import math"
   ]
  },
  {
   "cell_type": "code",
   "execution_count": 244,
   "metadata": {},
   "outputs": [
    {
     "data": {
      "image/png": "[encoded data removed]",
      "text/plain": [
       "<Figure size 432x288 with 1 Axes>"
      ]
     },
     "metadata": {
      "needs_background": "light"
     },
     "output_type": "display_data"
    }
   ],
   "source": [
    "mu = 0\n",
    "\n",
    "variance = 2\n",
    "sigma = math.sqrt(variance)\n",
    "x = np.linspace(mu - 3*sigma, mu + 3*sigma, 100)\n",
    "\n",
    "print\n",
    "plt.plot(x, stats.laplace.pdf(x),'r-')#b=1\n",
    "plt.plot(x, stats.norm.pdf(x, mu, sigma),'b-')\n",
    "\n",
    "plt.show()"
   ]
  },
  {
   "cell_type": "code",
   "execution_count": 245,
   "metadata": {},
   "outputs": [
    {
     "data": {
      "text/plain": [
       "[<matplotlib.lines.Line2D at 0x1a18b04d90>]"
      ]
     },
     "execution_count": 245,
     "metadata": {},
     "output_type": "execute_result"
    },
    {
     "data": {
      "image/png": "[encoded data removed]",
      "text/plain": [
       "<Figure size 432x288 with 1 Axes>"
      ]
     },
     "metadata": {
      "needs_background": "light"
     },
     "output_type": "display_data"
    }
   ],
   "source": [
    "plt.plot(x,stats.norm.cdf(x,mu,sigma),'-b')\n",
    "plt.plot(x,stats.laplace.cdf(x),'--r')"
   ]
  },
  {
   "cell_type": "markdown",
   "metadata": {},
   "source": [
    "##  Catastrophic forgetting"
   ]
  },
  {
   "cell_type": "markdown",
   "metadata": {},
   "source": [
    "Please check the hand writting pics. Page 7.\n",
    "I am trying it with math, but it seems not work.\n",
    "$$ \\delta W = W_N - W_{N-1}$$"
   ]
  },
  {
   "cell_type": "code",
   "execution_count": null,
   "metadata": {},
   "outputs": [],
   "source": []
  }
 ],
 "metadata": {
  "kernelspec": {
   "display_name": "Python 3",
   "language": "python",
   "name": "python3"
  },
  "language_info": {
   "codemirror_mode": {
    "name": "ipython",
    "version": 3
   },
   "file_extension": ".py",
   "mimetype": "text/x-python",
   "name": "python",
   "nbconvert_exporter": "python",
   "pygments_lexer": "ipython3",
   "version": "3.7.4"
  }
 },
 "nbformat": 4,
 "nbformat_minor": 2
}
