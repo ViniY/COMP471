{
 "cells": [
  {
   "cell_type": "markdown",
   "metadata": {},
   "source": [
    "# COMP471 Assignment 4\n",
    "## Question 1\n",
    "<font size='3.5'>\n",
    "The result looks not very correct to me, I think I still not fully understand how we do it in 2 dimension and how to choose a proper Q distribution for it. So the result looks wierd. <br>\n",
    "What I have done, I made the function as P and propose another function(distribution) for Q.<br>\n",
    "Using some random walk for taking new samples, and use the rule -> min(1,p'/p * q'/q) to decide if we gonna take that new sample.<br>\n",
    "I also implement the burnin period and the gap between taking samples.<br>\n",
    "During burnin period, the sampler still working but without taking any samples into the sample list. So basically it just walking around with taking any marks.<br>\n",
    "And it only take samples after each gap<br>\n",
    "   </font>\n"
   ]
  },
  {
   "cell_type": "code",
   "execution_count": 1063,
   "metadata": {},
   "outputs": [],
   "source": [
    "%matplotlib inline\n",
    "import matplotlib\n",
    "import numpy as np\n",
    "import matplotlib.pyplot as plt\n",
    "import numpy.random as rng\n",
    "from scipy.special import expit as sigmoid\n",
    "import math\n",
    "# from mpl_toolkits.mplot3d import Axes3D  # noqa: F401 unused import\n",
    "\n",
    "np.set_printoptions(precision = 2)"
   ]
  },
  {
   "cell_type": "code",
   "execution_count": 1064,
   "metadata": {},
   "outputs": [],
   "source": [
    "def Pstar(v):## for each x,y pair(target distribution)\n",
    "#     v=v[0]\n",
    "#     Pstar = np.log(np.exp(-np.sum(v*v/40.)) * np.power((np.abs(v[0])/(1. + np.abs(v[1]))),  4.0))\n",
    "    Pstar = np.exp(-np.sum(v*v/40.)) * np.power((np.abs(v[0])/(1. + np.abs(v[1]))),  4.0)\n",
    "\n",
    "    return Pstar\n",
    "    "
   ]
  },
  {
   "cell_type": "code",
   "execution_count": 1065,
   "metadata": {},
   "outputs": [],
   "source": [
    "def Qstar(v,std=0.1):## for each x,y pair with random walk\n",
    "    x = v[0]\n",
    "    y = v[1]\n",
    "#     cov = np.array([[0.1,0],[0,0.1]])\n",
    "#     Qstar  = (rng.multivariate_normal(v,cov=cov))\n",
    "#     Qstar = np.log(sigmoid(x* y))\n",
    "    Qstar =sigmoid(x* y)\n",
    "\n",
    "\n",
    "    return Qstar"
   ]
  },
  {
   "cell_type": "code",
   "execution_count": 1066,
   "metadata": {},
   "outputs": [],
   "source": [
    "# c = [0,1]\n",
    "# m = Qstar(c)\n",
    "# print(m)"
   ]
  },
  {
   "cell_type": "code",
   "execution_count": 1067,
   "metadata": {},
   "outputs": [],
   "source": [
    "def make_Metropolis_Samples():\n",
    "    # Metropolis parameters\n",
    "    std=0.5\n",
    "    upper_bounds = [1, 1] ## ranges for x and y first column for x and second column for y   \n",
    "    lower_bounds = [-1, -1] \n",
    "    num_samples = 1000\n",
    "    gap_between_samples = 10\n",
    "    sigma_proposal = 0.05     # initial width of the proposal distribution\n",
    "    num_samples_per_chain = 1\n",
    "    \n",
    "    all_samples = [] # recording the accepeted samples \n",
    "    prop_log_post =0\n",
    "    \n",
    "    while (len(all_samples) < num_samples):\n",
    "        #intial for x,y\n",
    "        v = ([np.random.uniform(lower_bounds[0],upper_bounds[0]),np.random.uniform(lower_bounds[1],upper_bounds[1])])\n",
    "        v = np.reshape(v, (-1, 2))#v[0]->x , v[1]->y\n",
    "        v=v[0]\n",
    "\n",
    "        # Metropolis \n",
    "        num_proposed, num_accepted, num_sampled_this_chain=0,0,0\n",
    "        while (num_sampled_this_chain < num_samples_per_chain) and (len(all_samples) < num_samples):\n",
    "            for t in range(gap_between_samples):\n",
    "                p = Pstar(v)\n",
    "                q = Qstar(v)\n",
    "                \n",
    "                x = v[0]\n",
    "                y = v[1]\n",
    "                xNew = rng.normal(x,std)\n",
    "                yNew = rng.normal(y,std)\n",
    "                v_new = np.array([xNew,yNew])\n",
    "                pnew = Pstar(v_new)\n",
    "                qnew = Qstar(v_new)\n",
    "                num_proposed+=1\n",
    "                a = np.minimum(1,pnew/p*(qnew/q))\n",
    "#                 a = np.minimum(1,np.exp(pnew-p + (qnew-q)))#in log ,/ -> -, * ->+\n",
    "                if t%5==0:\n",
    "                    if a >=1: \n",
    "                        num_accepted+=1\n",
    "                        all_samples.append(v_new)\n",
    "                        v= v_new\n",
    "                    else: \n",
    "                        if(a>rng.random()):\n",
    "                            num_accepted+=1\n",
    "                            all_samples.append(v_new)\n",
    "                            v= v_new\n",
    "\n",
    "\n",
    "\n",
    "                ## change here to pstar and qstar\n",
    "#                 prop_theta = Pstar(theta, sigma_proposal)\n",
    "#                 num_proposed += 1\n",
    "#                 if a > 1\n",
    "#                 prop_log_post = calc_log_posterior(prop_theta,partX,partT,hyperparameters)\n",
    "                \n",
    "#                 if (prop_log_post > log_post) or (np.exp((prop_log_post-log_post)) > rng.random()): \n",
    "#                     theta, log_post = prop_theta, prop_log_post\n",
    "#                     num_accepted += 1\n",
    "\n",
    "#             all_samples.append(theta)  \n",
    "#             num_sampled_this_chain += 1\n",
    "#                 if(p > q) or (np.exp((p-q))> rng.random()):#p and q been logged so \"-\" in log is \"/\" in normal form\n",
    "#                     num_accepted +=1\n",
    "#                     all_samples.append(v)\n",
    "    print(len(all_samples))\n",
    "    return all_samples"
   ]
  },
  {
   "cell_type": "code",
   "execution_count": 1068,
   "metadata": {},
   "outputs": [
    {
     "name": "stdout",
     "output_type": "stream",
     "text": [
      "1001\n",
      "<class 'list'>\n"
     ]
    },
    {
     "data": {
      "image/png": "[encoded data removed]",
      "text/plain": [
       "<Figure size 432x288 with 1 Axes>"
      ]
     },
     "metadata": {
      "needs_background": "light"
     },
     "output_type": "display_data"
    }
   ],
   "source": [
    "all_samples= make_Metropolis_Samples()\n",
    "# print(all_samples[0])\n",
    "# print(all_samples[1])\n",
    "print(type(all_samples))\n",
    "xs = []\n",
    "ys = []\n",
    "for elem in all_samples:\n",
    "    xs.append(elem[0])\n",
    "    ys.append(elem[1])\n",
    "\n",
    "plt.scatter(xs, ys, c='r', alpha=0.5)\n",
    "plt.xlabel('x')\n",
    "plt.ylabel('y')\n",
    "plt.show()"
   ]
  },
  {
   "cell_type": "code",
   "execution_count": null,
   "metadata": {},
   "outputs": [],
   "source": []
  },
  {
   "cell_type": "markdown",
   "metadata": {},
   "source": [
    "## Question 2 "
   ]
  },
  {
   "cell_type": "markdown",
   "metadata": {},
   "source": [
    "Code based on https://gitlab.ecs.vuw.ac.nz/lms/comp471/probabilistic_machine_learning_2020/-/blob/master/notebooks/markov-messages.ipynb\n",
    "(The code is demostrating a mc, where we need to modifiy it to make it become HMM. )\n"
   ]
  },
  {
   "cell_type": "markdown",
   "metadata": {},
   "source": [
    "<font size=\"3.5\">\n",
    "The code is modified based on markov-message.ipynb.<br>\n",
    "The third block, ns_h is the number of states for each time step in the hidden chain. nt =20 is the length of time steps. ns_o is the number of possible states for the observations. By default it can have three observation states and 4 hidden states. <br>\n",
    "In this hmm model, a Emission matrix is added(E). <br>\n",
    "I changed the usage of onehot encoding function, it was use for the chain. In this HMM model, it is used for observation states. <br>\n",
    "For the time step has observations, the msg to factor become E.T*onehot(obs[t],ns_o).sum(1).reshape(ns_h), which use the emission matrix to reverse the message from observation state back to the hidden chain. <br>\n",
    "The result looks correct, I did the checking by hand as well, please check the graph uploaded.\n",
    "</font>"
   ]
  },
  {
   "cell_type": "markdown",
   "metadata": {},
   "source": [
    "<font size='3.5'>\n",
    "About the result:<br> \n",
    "The density concentrate on the state at the time step which has observation. For example we take # obs ={0:0, 9:2}\n",
    "The observation of time step 9 is 2, and most density concentrate on C. If a long chain without any observations, the density of each state is close to the transition matrix.\n",
    "   </font>"
   ]
  },
  {
   "cell_type": "code",
   "execution_count": 1200,
   "metadata": {},
   "outputs": [],
   "source": [
    "%matplotlib inline\n",
    "%reset -f\n",
    "import matplotlib\n",
    "import numpy as np\n",
    "import matplotlib.pyplot as plt\n",
    "import numpy.random as rng\n",
    "from scipy.special import expit as sigmoid\n",
    "np.set_printoptions(precision = 2)\n",
    "# I want tick labels at the top, like in lectures\n",
    "plt.rcParams['xtick.bottom'] = plt.rcParams['xtick.labelbottom'] = False\n",
    "plt.rcParams['xtick.top'] = plt.rcParams['xtick.labeltop'] = True\n",
    "matplotlib.rcParams['figure.dpi'] = 120\n",
    "# rng.seed(471)"
   ]
  },
  {
   "cell_type": "code",
   "execution_count": 1201,
   "metadata": {},
   "outputs": [],
   "source": [
    "def onehot(j,n):#use for y which is the observation for hmm\n",
    "    # returns a one-hot vector of size n.\n",
    "    z = np.zeros(n)\n",
    "    z[j]=1\n",
    "    return(z)"
   ]
  },
  {
   "cell_type": "code",
   "execution_count": 1202,
   "metadata": {},
   "outputs": [
    {
     "data": {
      "text/plain": [
       "array([0.49, 0.04, 0.06, 0.41])"
      ]
     },
     "execution_count": 1202,
     "metadata": {},
     "output_type": "execute_result"
    }
   ],
   "source": [
    "ns_h=4 # has ns_h entries for hidden chain\n",
    "ns_o=3 #has ns_o entries for observation\n",
    "nt= 20 # this is the length of the sequence (time steps )\n",
    "import string\n",
    "stateNames = string.ascii_uppercase[:ns_h]\n",
    "stateNames_y = string.ascii_lowercase[:ns_o]\n",
    "\n",
    "# Make up a prior for the initial state. I call this M0\n",
    "M0 = rng.random(ns_h)#state transition matrix\n",
    "# M0 = np.array([[1,1,1,1]])\n",
    "M0 = M0/M0.sum(0)\n",
    "#make up a prior for the initial state for y called by E0\n",
    "E0 = rng.random(ns_o)#emission probability matrix\n",
    "\n",
    "# Make up a transition matrix. Some examples might be commented out here.\n",
    "# M = np.array([[.9,0,.1],[.1,.9,0],[0,.1,.9]])   # a slow rock-paper-scissors cycle!\n",
    "# M = np.array([[.1,0,.5],[.9,.1,0],[0,.9,.5]])   # same, but faster, and 2-->0 is slower.\n",
    "# M = np.array([[0.05,0.8,0.15],[0.1,0.2,0.7],[0.8,0.1,0.1]])\n",
    "\n",
    "\n",
    "E = rng.random((ns_o,ns_h))\n",
    "# M = rng.random((ns_h,ns_h))  # totally made-up transition matrix\n",
    "# E =np.array([[.9,0,.1],[.1,.9,0],[0,.1,.3],[0.6,0.1,0.3]])\n",
    "\n",
    "E =np.array([[0.1,0.8,0.05,0.05],[0.1,0.2,0.5,0.2],[0.2,0.3,0.2,0.3]])\n",
    "M = np.array([[0.05,0.7,0.1,0.15],[0.1,0.2,0.6,0.1],[0.05,0.1,0.05,0.8],[0.7,0.1,0.1,0.1]])\n",
    "\n",
    "\n",
    "# \n",
    "\n",
    "M = M / M.sum(0) # just to be sure it's normalised down the cols.\n",
    "E = E/ E.sum(0)\n",
    "M0"
   ]
  },
  {
   "cell_type": "code",
   "execution_count": 1203,
   "metadata": {},
   "outputs": [
    {
     "data": {
      "text/plain": [
       "array([[0.25, 0.62, 0.07, 0.09],\n",
       "       [0.25, 0.15, 0.67, 0.36],\n",
       "       [0.5 , 0.23, 0.27, 0.55]])"
      ]
     },
     "execution_count": 1203,
     "metadata": {},
     "output_type": "execute_result"
    },
    {
     "data": {
      "image/png": "[encoded data removed]",
      "text/plain": [
       "<Figure size 720x480 with 2 Axes>"
      ]
     },
     "metadata": {
      "needs_background": "light"
     },
     "output_type": "display_data"
    }
   ],
   "source": [
    "fig, ax= plt.subplots(1,2)\n",
    "ax[0].imshow(np.atleast_2d(E0).T, cmap='Blues', vmin=0,vmax=1)\n",
    "ax[0].set_title(r'init probs, $E0$'); ax[0].axis('off')\n",
    "ax[1].imshow(E, cmap='Blues', vmin=0,vmax=1)\n",
    "dum = ax[1].set_title(r'Emmisions, $E$')\n",
    "dum = plt.setp(ax[1], xticks=range(ns_h), xticklabels=stateNames, yticks=range(ns_o), yticklabels=stateNames_y)\n",
    "plt.tight_layout()\n",
    "E"
   ]
  },
  {
   "cell_type": "markdown",
   "metadata": {},
   "source": [
    "But the states of x are hidden here is just a demonstration of x (imagine we cant see it)"
   ]
  },
  {
   "cell_type": "code",
   "execution_count": 1204,
   "metadata": {},
   "outputs": [
    {
     "data": {
      "text/plain": [
       "array([[0.06, 0.64, 0.12, 0.13],\n",
       "       [0.11, 0.18, 0.71, 0.09],\n",
       "       [0.06, 0.09, 0.06, 0.7 ],\n",
       "       [0.78, 0.09, 0.12, 0.09]])"
      ]
     },
     "execution_count": 1204,
     "metadata": {},
     "output_type": "execute_result"
    },
    {
     "data": {
      "image/png": "[encoded data removed]",
      "text/plain": [
       "<Figure size 720x480 with 2 Axes>"
      ]
     },
     "metadata": {
      "needs_background": "light"
     },
     "output_type": "display_data"
    }
   ],
   "source": [
    "fig, ax= plt.subplots(1,2)\n",
    "ax[0].imshow(np.atleast_2d(M0).T, cmap='Blues', vmin=0,vmax=1)\n",
    "ax[0].set_title(r'init probs, $M0$'); ax[0].axis('off')\n",
    "ax[1].imshow(M, cmap='Blues', vmin=0,vmax=1)\n",
    "dum = ax[1].set_title(r'transitions, $M$')\n",
    "dum = plt.setp(ax[1], xticks=range(ns_h), xticklabels=stateNames, yticks=range(ns_h), yticklabels=stateNames)\n",
    "plt.tight_layout()\n",
    "M"
   ]
  },
  {
   "cell_type": "code",
   "execution_count": 1205,
   "metadata": {},
   "outputs": [
    {
     "name": "stdout",
     "output_type": "stream",
     "text": [
      "{15: 0, 10: 0, 1: 2, 17: 1}\n"
     ]
    }
   ],
   "source": [
    "no_obs = 5\n",
    "obs={} # now the observation become y instead of x \n",
    "for i in range(no_obs): \n",
    "    obs[rng.randint(nt)] = rng.randint(ns_o)\n",
    "\n",
    "# OR INSTEAD, FOR TESTING, let's just ordain the first and last states.    \n",
    "# obs ={0:0, 9:2}\n",
    "\n",
    "print(obs)"
   ]
  },
  {
   "cell_type": "code",
   "execution_count": 1206,
   "metadata": {},
   "outputs": [
    {
     "name": "stdout",
     "output_type": "stream",
     "text": [
      "[0.49 0.04 0.06 0.41]\n"
     ]
    }
   ],
   "source": [
    " # messages going from vars to factors...   # here is still MM\n",
    "msg_forw_to_factor = np.zeros((ns_h,nt))  # 'D' for msg heading Down-stream\n",
    "msg_back_to_factor = np.zeros((ns_h,nt))  # 'U' for msg heading Up-stream\n",
    "\n",
    "# messages going from factors to vars...\n",
    "msg_forw_to_var = np.zeros((ns_h,nt))  \n",
    "msg_back_to_var = np.zeros((ns_h,nt))  \n",
    "\n",
    "# messages going from y to factors\n",
    "msg_y_to_factor = np.zeros((ns_h,nt))  \n",
    "# messages from factor on y side to var\n",
    "msg_yfactor_to_var = np.zeros((ns_h,nt)) ## just E matrix\n",
    "\n",
    "print(M0)"
   ]
  },
  {
   "cell_type": "code",
   "execution_count": 1207,
   "metadata": {},
   "outputs": [],
   "source": [
    "for t in range(nt):\n",
    "    # first we do the message leaving the var node, going forwards / downstream\n",
    "    if t==0:\n",
    "        # special case because has it's very own factor\n",
    "        msg_forw_to_var[:,t] = M0 # nb. does not matter, but anyway!\n",
    "    else:\n",
    "        upstream_msg = msg_forw_to_factor[:,t-1]\n",
    "        msg_forw_to_var[:,t] = (M * upstream_msg).sum(1).reshape(ns_h)        \n",
    "        # Note that all factor nodes are the same, namely the matrix of conditional probs, `M'\n",
    "        # nb. numpy is automatically doing the \"tiling\" of the FROM msg into the shape of M, here.\n",
    "    \n",
    "\n",
    "    if t in obs: # there's an observation - this beats any inference guesswork!\n",
    "#         msg_y_to_factor[:,t] =  (E.T * onehot(obs[t],ns_o)).sum(1).reshape(ns_h)\n",
    "#         msg_y_to_factor[:,t] = onehot(obs[t],ns_o)\n",
    "\n",
    "#         msg_forw_to_factor[:,t] =   msg_y_to_factor[:,t] # the observed value, one-hot encoded\n",
    "#         msg_yfactor_to_var[:,t] = (E.T * msg_y_to_factor[:,t]).sum(1).reshape(ns_h)\n",
    "#         msg_forw_to_var[:,t] = msg_y_to_factor[:,t]\n",
    "#         print(\"*\"*40)\n",
    "#         print(E)\n",
    "#         print(\"+\"*40)\n",
    "#         print(E.T)\n",
    "        p = (E.T*onehot(obs[t],ns_o).T).sum(1).reshape(ns_h)\n",
    "#         print(p)\n",
    "        msg_forw_to_factor[:,t] = ( E.T * onehot(obs[t],ns_o).T).sum(1).reshape(ns_h)\n",
    "        m=onehot(obs[t],ns_o)\n",
    "    else:\n",
    "        msg_forw_to_factor[:,t] = msg_forw_to_var[:,t] # default is it goes straight through the variable node.\n",
    "#     if t==3:\n",
    "#         p = msg_forw_to_var[:,t]\n",
    "#         p= p/ p.sum(0)\n",
    "#         print(p)\n",
    "        \n"
   ]
  },
  {
   "cell_type": "code",
   "execution_count": 1208,
   "metadata": {},
   "outputs": [],
   "source": [
    "# M just used for checking \n",
    "# p0 =M0\n",
    "# p00 = np.array([[0.25,0.62,0.07,0.09]])\n",
    "# p = (p00.T * p0).sum(1).reshape(ns_h)\n",
    "# for i in range(3):\n",
    "#     upstream_msg = p\n",
    "#     p = (M * upstream_msg).sum(1).reshape(ns_h)  \n",
    "#     p=p/p.sum(0)\n",
    "# # (M * upstream_msg).sum(1).reshape(ns_h)   \n",
    "# print(p)    "
   ]
  },
  {
   "cell_type": "code",
   "execution_count": 1209,
   "metadata": {},
   "outputs": [
    {
     "data": {
      "image/png": "[encoded data removed]",
      "text/plain": [
       "<Figure size 720x480 with 2 Axes>"
      ]
     },
     "metadata": {
      "needs_background": "light"
     },
     "output_type": "display_data"
    }
   ],
   "source": [
    " fig, (ax1, ax2) = plt.subplots(nrows=2)\n",
    "\n",
    "ax1.imshow(msg_forw_to_var, cmap='Blues', vmin=0,vmax=1)\n",
    "dum = ax1.set_title('msg forw to var')\n",
    "ax2.imshow(msg_forw_to_factor, cmap='Blues', vmin=0,vmax=1)\n",
    "dum = ax2.set_title('msg forw to factor')\n",
    "dum = plt.setp((ax1,ax2), xticks=[], yticks=range(ns_h), yticklabels=stateNames)"
   ]
  },
  {
   "cell_type": "code",
   "execution_count": 1210,
   "metadata": {},
   "outputs": [],
   "source": [
    "for t in reversed(range(nt)):\n",
    "    if t == nt-1: # last one is special case: incoming back msg is just a dummy vector of ones.\n",
    "        msg_back_to_var[:,t] = np.ones(ns_h)/ns_h\n",
    "    else:\n",
    "        upstream_msg = msg_back_to_factor[:,t+1]\n",
    "        msg_back_to_var[:,t] = (M.T * upstream_msg).sum(1).reshape(ns_h)    \n",
    "    \n",
    "    if t in obs: # there's an observation - this beats any inference guesswork!\n",
    "        msg_back_to_factor[:,t] = (E.T* onehot(obs[t],ns_o).T).sum(1).reshape(ns_h) # the observed value, one-hot encoded\n",
    "    else:\n",
    "        msg_back_to_factor[:,t] = msg_back_to_var[:,t] # default is it goes straight through the variable node."
   ]
  },
  {
   "cell_type": "code",
   "execution_count": 1211,
   "metadata": {},
   "outputs": [
    {
     "data": {
      "image/png": "[encoded data removed]",
      "text/plain": [
       "<Figure size 720x480 with 2 Axes>"
      ]
     },
     "metadata": {
      "needs_background": "light"
     },
     "output_type": "display_data"
    }
   ],
   "source": [
    " fig, (ax1, ax2) = plt.subplots(nrows=2)\n",
    "ax1.imshow(msg_back_to_factor, cmap='Blues', vmin=0,vmax=1)\n",
    "dum = ax1.set_title('msg back to factor')\n",
    "ax2.imshow(msg_back_to_var, cmap='Blues', vmin=0,vmax=1)\n",
    "dum = ax2.set_title('msg back to var')\n",
    "dum = plt.setp((ax1,ax2), xticks=[], yticks=range(ns_h), yticklabels=stateNames)"
   ]
  },
  {
   "cell_type": "code",
   "execution_count": 1212,
   "metadata": {},
   "outputs": [
    {
     "data": {
      "image/png": "[encoded data removed]",
      "text/plain": [
       "<Figure size 720x480 with 1 Axes>"
      ]
     },
     "metadata": {
      "needs_background": "light"
     },
     "output_type": "display_data"
    }
   ],
   "source": [
    " px = np.zeros((ns_h,nt))\n",
    "px =  msg_forw_to_var * msg_back_to_var\n",
    "for t in obs: px[:,t] = onehot(obs[t],ns_h)\n",
    "    \n",
    "px = px / px.sum(0)\n",
    "fig, ax = plt.subplots(1,1)\n",
    "ax.imshow(px, cmap='Blues', vmin=0,vmax=1)\n",
    "dum = ax.set_title('posterior distribution over states')"
   ]
  },
  {
   "cell_type": "markdown",
   "metadata": {},
   "source": [
    "## Gibbs Sampling:\n"
   ]
  },
  {
   "cell_type": "code",
   "execution_count": 1213,
   "metadata": {},
   "outputs": [],
   "source": [
    "%reset -f\n",
    "%matplotlib inline\n",
    "import matplotlib as mpl\n",
    "import numpy as np\n",
    "from numpy import array as a\n",
    "import matplotlib.pyplot as plt\n",
    "import numpy.random as rng\n",
    "from scipy.special import expit as sigmoid\n",
    "np.set_printoptions(precision = 2, suppress = True)\n",
    "import time\n",
    "rng.seed(int(time.time())) # seed the random number generator"
   ]
  },
  {
   "cell_type": "markdown",
   "metadata": {},
   "source": [
    "### Initialise each state with onehot encoding, if is for initialising then, it will initialise the whole chain with probability for A,B,C in M0"
   ]
  },
  {
   "cell_type": "code",
   "execution_count": 1214,
   "metadata": {},
   "outputs": [],
   "source": [
    "def onehot(n,intial=False):#use for initialising the states at the begining \n",
    "    z = np.zeros(n)\n",
    "    if intial:\n",
    "#         print(\"Using the initla M0 distribution to intialise the whole chain :\", M0)\n",
    "        K = M0.tolist()\n",
    "        r = rng.random()\n",
    "        if(r<K[0]):\n",
    "            z[0]=1\n",
    "        elif(r< (K[0]+K[1])):\n",
    "            z[1]=1\n",
    "        else:\n",
    "            z[2]=1\n",
    "    else :\n",
    "        j = rng.randint(n) \n",
    "        z[j]=1\n",
    "    return(z)"
   ]
  },
  {
   "cell_type": "code",
   "execution_count": 1215,
   "metadata": {},
   "outputs": [],
   "source": [
    "def targPrb(x):#just used for initialising \n",
    "    if x[0] == 1 and x[1]==0 and x[2]==0 : ## here the state is A\n",
    "        targPrb = M0[0]\n",
    "    elif x[0] == 0 and x[1]== 1 and x[2]==0 : ## here the state is B\n",
    "        targPrb = M0[1]\n",
    "    elif x[0] == 0 and x[1]== 0 and x[2]==1 : ## here the state is C\n",
    "        targPrb = M0[2]\n",
    "    return targPrb"
   ]
  },
  {
   "cell_type": "markdown",
   "metadata": {},
   "source": [
    "The below function will accept a state vector e.g.(1,0,0) and return the probability vector of change to other states (a column of transistion matrix)"
   ]
  },
  {
   "cell_type": "code",
   "execution_count": 1216,
   "metadata": {},
   "outputs": [],
   "source": [
    "def transitionProb(v):#return a vector of transition probability to other states\n",
    "    if v[0] == 1 and v[1]==0 and v[2]==0 : ## here the state is A\n",
    "        transPrb = M[:,0].T\n",
    "    elif v[0] == 0 and v[1]== 1 and v[2]==0 : ## here the state is B\n",
    "        transPrb = M[:,1].T\n",
    "    elif v[0] == 0 and v[1]== 0 and v[2]==1 : ## here the state is C\n",
    "        transPrb = M[:,2].T\n",
    "    else:\n",
    "        raise Exception(\"Something wrong with the vector of the state\") \n",
    "#     print(transPrb)\n",
    "    return transPrb\n",
    "    "
   ]
  },
  {
   "cell_type": "code",
   "execution_count": 1217,
   "metadata": {},
   "outputs": [],
   "source": [
    "def logProb(toState,fromState):\n",
    "    if M[toState][fromState] == 0:\n",
    "        raise Exception (\"zero probability occurs\")\n",
    "    logProb = np.log(M[toState][fromState])\n",
    "    \n",
    "    return logProb\n",
    "    "
   ]
  },
  {
   "cell_type": "markdown",
   "metadata": {},
   "source": [
    "### the code below is to construct input pattern and make the transiction matrix fits."
   ]
  },
  {
   "cell_type": "code",
   "execution_count": 1218,
   "metadata": {},
   "outputs": [],
   "source": [
    "dimensionNo = 20 # so we have 20 dimensions by default\n",
    "burninPeriod = 100 #burn in period withou taking samples from \n",
    "# M = np.array([[.1,0,.5],[.9,.1,0],[0,.9,.5]]) \n",
    "M = np.array([[0.05,0.8,0.15],[0.1,0.9,0.7],[0.8,0.1,0.1]])\n",
    "\n",
    "\n",
    "M = M / M.sum(0) # just to be sure it's normalised down the cols.\n",
    "M0 = rng.random(3)#initial state for each time step , can I use it for all the time step for initialising? (for the probability of each time step?)\n",
    "M #the probability of each state is the transaction matrix in the previous problem \n",
    "# print(M)\n",
    "# print(M0)\n",
    "N = 3 # the dimension of input patterns is 3 \"A(1,0,0), B(0,1,0), C(0,0,1)\"\n",
    "# gapInBetw = 20 # the gaps between samples\n",
    "targProb = {}  # these are going to be dictionaries.\n",
    "testVal = 1.0\n",
    "inpats = [] # input patterns should be []\n",
    "\n",
    "\n",
    "# for p in [[0 if (i & (1 << bit) == 0) else 1 for bit in range(N)] for i in range(2**N)]:\n",
    "# #     print(type(p))\n",
    "#     inpats.append(p)\n",
    "#     targProb[tuple(p)] = testVal\n",
    "#     testVal *= 2\n",
    "\n",
    "for i in range(20):#20 -> number of time steps (initialise each state)\n",
    "    x = onehot(3,True)\n",
    "    p = x.tolist()\n",
    "    inpats.append(p)\n",
    "    targProb[tuple(p)] = targPrb(x)\n",
    "\n",
    "\n",
    "\n",
    "# c =0\n",
    "# for p in inpats:\n",
    "#     c=c+1\n",
    "#     print(\"This is time step : \", c)\n",
    "#     print (\"%s  target probability is %.3f\" % (p, targProb[tuple(p)]))\n"
   ]
  },
  {
   "cell_type": "code",
   "execution_count": 1219,
   "metadata": {},
   "outputs": [],
   "source": [
    "def writelog():\n",
    "    print(len(update_log))\n",
    "    f=open('updatelog.txt','w')\n",
    "    for ele in update_log:\n",
    "        f.write(ele+'\\n')\n",
    "    f.close()\n",
    "    print(\"wrote the changes to a log file \")"
   ]
  },
  {
   "cell_type": "markdown",
   "metadata": {},
   "source": [
    "## Gibbs sampler\n",
    "<font size='3.5'>\n",
    "Based on the code simplest demo logspace,\n",
    "it was only two states 0 and 1, <br>\n",
    "here I chanhed it to three which are a,b and c <br>\n",
    "Then compare the log probability to decide if update the chosen dimension or not.<br>\n",
    "\n",
    "I realize I made a mistake for this question, it should check for the 4dimensional hmm model. Because at the begining I implement the HMM with 3 possible hidden states, so for this question, it is acutally checking for the 3 dimensional version HMM.<br>\n",
    "</font>"
   ]
  },
  {
   "cell_type": "code",
   "execution_count": 1220,
   "metadata": {
    "scrolled": false
   },
   "outputs": [
    {
     "name": "stdout",
     "output_type": "stream",
     "text": [
      "In  100000  iterations the total number of updates is :  370\n"
     ]
    }
   ],
   "source": [
    "ITERATIONS = 100000\n",
    "update_log=[]\n",
    "gap = 100\n",
    "\n",
    "burninPeriod = 1000 #burn in period withou taking samples from \n",
    "\n",
    "\n",
    "\n",
    "counter = [] ## construct by two list, the first list tracking the index of state,\n",
    "count_abc=[0,0,0]## inner list counts the number of this state become A,B and C \n",
    "for i in range(20):\n",
    "    counter.append(list(count_abc))\n",
    "# print(inpats)\n",
    "\n",
    "updateCounts = 0\n",
    "for i in range(ITERATIONS):\n",
    "    index = rng.randint(20)  # choose one dimension, whose value we will reset\n",
    "#     print(inpats[index])\n",
    "    current_stateVec = inpats[index]#the current state of the chosen dimension\n",
    "    probVec = transitionProb(current_stateVec)# the probability of the current state transform to other (A,B,C)\n",
    "#     print(probVec)#check \n",
    "    fromState = -1\n",
    "    if current_stateVec[0]==1:\n",
    "        fromState =0\n",
    "    elif current_stateVec[1]==1:\n",
    "        fromState =1\n",
    "    else:\n",
    "        fromState =2\n",
    "    logProb_toA = logProb(toState=0, fromState = fromState)\n",
    "    logProb_toB = logProb(toState=1, fromState = fromState)\n",
    "    logProb_toC = logProb(toState=2, fromState = fromState)\n",
    "    r0 = sigmoid(logProb_toA-logProb_toB)\n",
    "    r1 = sigmoid(logProb_toA-logProb_toC)\n",
    "    r2 = sigmoid(logProb_toB-logProb_toC)\n",
    "\n",
    "\n",
    "##updating: \n",
    "    r = rng.rand()\n",
    "    if fromState==0:\n",
    "        if r<r1:#change to B\n",
    "#             print(\"updating here: \", index, \" before update: \", inpats[index], \" become : 010\")\n",
    "            inpats[index] = [0,1,0]\n",
    "            update_log.append(str(\"In iteration : \" + str(i)+ \"the \"+str(index)+\" state is updated. \"+ \" before update: \"+ str(inpats[index])+ \" become : 0,1,0\"))\n",
    "            if i> burninPeriod and i%gap==0:#dont take any samples during burn in period\n",
    "                counter[index][1]+=1\n",
    "                updateCounts+=1\n",
    "\n",
    "\n",
    "        elif r<r2: #change to C\n",
    "#             print(\"updating here: \", index, \" before update: \", inpats[index], \" become : 001\")\n",
    "            update_log.append(str(\"In iteration : \" + str(i)+ \"the \"+str(index)+\" state is updated. \"+ \" before update: \"+ str(inpats[index])+ \" become : 0,0,1\"))\n",
    "            inpats[index] = [0,0,1]\n",
    "            if i> burninPeriod and i%gap==0:\n",
    "                counter[index][2]+=1\n",
    "                updateCounts+=1\n",
    "\n",
    "\n",
    "        else:\n",
    "            inpats[index] = [1,0,0]#unchanged stay A\n",
    "    elif fromState==1:#currently B \n",
    "        if r<r0:#change to A\n",
    "            update_log.append(str(\"In iteration : \" + str(i)+ \"the \"+str(index)+\" state is updated. \"+ \" before update: \"+ str(inpats[index])+ \" become : 1,0,0\"))\n",
    "\n",
    "\n",
    "#             print(\"updating here: \", index, \" before update: \", inpats[index], \" become : 100\")\n",
    "            inpats[index] = [1,0,0]\n",
    "            if i> burninPeriod and i%gap==0:\n",
    "                counter[index][0]+=1\n",
    "                updateCounts+=1\n",
    "\n",
    "\n",
    "                \n",
    "        elif r<r2: #change to C\n",
    "#             print(\"updating here: \", index, \" before update: \", inpats[index], \" become : 001\")\n",
    "            update_log.append(str(\"In iteration : \" + str(i)+ \"the \"+str(index)+\" state is updated. \"+ \" before update: \"+ str(inpats[index])+ \" become : 0,0,1\"))\n",
    "            inpats[index] = [0,0,1]\n",
    "            if i> burninPeriod and i%gap==0:\n",
    "                counter[index][2]+=1\n",
    "                updateCounts+=1\n",
    "\n",
    "\n",
    "                \n",
    "    else: ##currently C\n",
    "        if r<r0:#change to A\n",
    "#             print(\"updating here: \", index, \" before update: \", inpats[index], \" become : 100\")\n",
    "            update_log.append(str(\"In iteration : \" + str(i)+ \"the \"+str(index)+\" state is updated. \"+ \" before update: \"+ str(inpats[index])+ \" become : 1,0,0\"))\n",
    "            inpats[index] = [1,0,0]\n",
    "            if i> burninPeriod and i%gap==0:\n",
    "                counter[index][0]+=1\n",
    "                updateCounts+=1\n",
    "\n",
    "\n",
    "                \n",
    "        if r<r1:#change to B\n",
    "#             print(\"updating here: \", index, \" before update: \", inpats[index], \" become : 010\")\n",
    "            update_log.append(str(\"In iteration : \" + str(i)+ \"the \"+str(index)+\" state is updated. \"+ \" before update: \"+ str(inpats[index])+ \" become : 0,1,0\"))\n",
    "            inpats[index] = [0,1,0]\n",
    "            if i> burninPeriod and i%gap==0:\n",
    "                counter[index][1]+=1\n",
    "                updateCounts+=1\n",
    "\n",
    "\n",
    "print(\"In \", ITERATIONS,\" iterations the total number of updates is : \", updateCounts )#wanna see how many updates in the total iterations\n",
    "# writelog() # for writting all the updates to a text file named by updatelog\n",
    "\n",
    "\n"
   ]
  },
  {
   "cell_type": "code",
   "execution_count": 451,
   "metadata": {},
   "outputs": [
    {
     "name": "stdout",
     "output_type": "stream",
     "text": [
      "--------------------------------------------------------------------------------\n",
      "[0.29 0.29 0.38 0.54 0.33 0.35 0.29 0.3  0.32 0.18 0.15 0.41 0.29 0.47\n",
      " 0.23 0.47 0.4  0.22 0.28 0.33]\n",
      "--------------------------------------------------------------------------------\n",
      "[0.43 0.38 0.24 0.23 0.4  0.48 0.53 0.3  0.41 0.64 0.38 0.35 0.24 0.2\n",
      " 0.46 0.29 0.47 0.33 0.56 0.33]\n",
      "--------------------------------------------------------------------------------\n",
      "[0.29 0.33 0.38 0.23 0.27 0.17 0.18 0.4  0.27 0.18 0.46 0.24 0.47 0.33\n",
      " 0.31 0.24 0.13 0.44 0.17 0.33]\n"
     ]
    },
    {
     "data": {
      "image/png": "[encoded data removed]",
      "text/plain": [
       "<Figure size 432x288 with 1 Axes>"
      ]
     },
     "metadata": {
      "needs_background": "light"
     },
     "output_type": "display_data"
    }
   ],
   "source": [
    "px = np.zeros((20,3))\n",
    "\n",
    "\n",
    "divider = []\n",
    "for i in range(20):\n",
    "    divider = sum(counter[i])\n",
    "    for j in range(3):\n",
    "        px[i][j] = counter[i][j]/divider\n",
    "px = px.T\n",
    "for m in range(3):\n",
    "    print(\"--\"*40)\n",
    "    print(px[m])\n",
    "# px = px /px.sum(0)\n",
    "\n",
    "fig, ax = plt.subplots(1,1)\n",
    "ax.imshow(px, cmap='Blues', vmin=0,vmax=1)\n",
    "dum = ax.set_title('posterior distribution over states')"
   ]
  },
  {
   "cell_type": "markdown",
   "metadata": {},
   "source": [
    "<font size=\"3.5\">\n",
    "For Gibbs Sampling, the result is not close to what I got from previous question. <br>\n",
    "For this question, it is 20 dimensions as I created a 20 states chain. Intialise the chain based on the probability of A,B and C using M0 from the previous question.  In this question A is represented by (1,0,0) B->(0,1,0) C->(0,0,1) (onehot encoding)<br>\n",
    "Then start iterations(Set to 10000) <br>\n",
    "in each iteration, use random(20) to chose which dimension to update.  <br>\n",
    "Then use the transiction matrix which is the same as question 2. for each state check the current value(A,B or C)\n",
    "Take log value of for probabily of changing to each state(get problogA,probLogB and problogC), then r0 =sigmoid(problogA-problogB) similar for r2 and r3.<br>\n",
    "if $r=random()<r0$ then change the current state to A similarly for r1 and r2.(But only check two of them for each state if current is A then just check B and C) if non of them been accepted then remain the current state. If the changes been accepted then increase the counter for this state with changes value.(have two counter the outer track the index of state the inner counter counts the number of pointing state store this specific value)\n",
    "During burnin Period the updating process still working but without taking any samples.  <br>\n",
    "And take samples for each 20 points after burn in.<br>\n",
    "Sometime the results are quite close actually, but I think that's probabbly just lucky?\n",
    "I expected the result are close, because they actually using the same transistion matrix to update states.<br>\n",
    "I think the difference may comes by gibbs sampling randomly choose which state to update, but hmm updates the whole chain in order. The other thing may make differnce is hmm-mcmc updating the current state based on the observations and all the other states but the gibbs sampling I implemented update the current state of the preious value of this state(the same node).\n",
    "\n",
    "\n",
    "</font>"
   ]
  },
  {
   "cell_type": "markdown",
   "metadata": {},
   "source": [
    "### Question 4"
   ]
  },
  {
   "cell_type": "markdown",
   "metadata": {},
   "source": [
    "<font size='3.5'>\n",
    "For the first part, the length of sequence set to 8. Each node on the chain can have 7 possible states using discrete numnbers(represent by ABCDE), each of the number have several prefered letters. The transition matrix includes the possibility of moving to insertion and deletion. The observations are the letters which means it can have 26 possibile states.(later on it can have more states for symbols, but I feel like I dont have enough time for pushing more on that if I did you wont see this line here :) ).<br>\n",
    "The structer I used is similar to the one shows in the book by Murphy.<br> Also did a bad hand writing graph, I will submit as well.<br>\n",
    "For the very first part, the code for observation actually does not involved. The code just want to generate samples from the given matrixs.<br>\n",
    "For given some letters and insert the rest, then observation part start working.<br>\n",
    "</font>\n",
    "\n",
    "\n",
    "\n",
    "\n",
    "\n",
    "So sorry, I didnt make the code for this part fully working, cuz the time limit. "
   ]
  },
  {
   "cell_type": "code",
   "execution_count": 1255,
   "metadata": {},
   "outputs": [],
   "source": [
    "%matplotlib inline\n",
    "%reset -f\n",
    "import matplotlib\n",
    "import numpy as np\n",
    "import matplotlib.pyplot as plt\n",
    "import numpy.random as rng\n",
    "from scipy.special import expit as sigmoid\n",
    "np.set_printoptions(precision = 2)\n",
    "# I want tick labels at the top, like in lectures\n",
    "plt.rcParams['xtick.bottom'] = plt.rcParams['xtick.labelbottom'] = False\n",
    "plt.rcParams['xtick.top'] = plt.rcParams['xtick.labeltop'] = True\n",
    "matplotlib.rcParams['figure.dpi'] = 120\n"
   ]
  },
  {
   "cell_type": "code",
   "execution_count": 1256,
   "metadata": {},
   "outputs": [],
   "source": [
    "def onehot(j,n):#use for y which is the observation for hmm\n",
    "    # returns a one-hot vector of size n.\n",
    "    z = np.zeros(n)\n",
    "    z[j]=1\n",
    "    return(z)"
   ]
  },
  {
   "cell_type": "code",
   "execution_count": 1320,
   "metadata": {},
   "outputs": [],
   "source": [
    "ns_h=7# has ns_h entries for hidden chain \n",
    "ns_o=26 #has ns_o entries for observation\n",
    "nt= 8 # this is the length of the sequence \n",
    "ns_i =26\n",
    "import string\n",
    "stateNames = string.ascii_uppercase[:ns_h]\n",
    "stateNames_y = string.ascii_lowercase[:ns_o]\n",
    "stateNames_i = string.ascii_lowercase[:ns_i]\n",
    "\n",
    "# Make up a prior for the initial state. I call this M0\n",
    "M0 = rng.random(ns_h)#state transition matrix\n",
    "\n",
    "\n",
    "# Make up a transition matrix. Some examples might be commented out here.\n",
    "# M = np.array([[.9,0,.1],[.1,.9,0],[0,.1,.9]])   # a slow rock-paper-scissors cycle!\n",
    "# M = np.array([[.1,0,.5],[.9,.1,0],[0,.9,.5]])   # same, but faster, and 2-->0 is slower.\n",
    "# M = np.array([[0.05,0.8,0.15],[0.1,0.2,0.7],[0.8,0.1,0.1]])\n",
    "\n",
    "E0 = rng.random(ns_o)#emission probability matrix\n",
    "I = rng.random((ns_i))\n",
    "# E = rng.random((ns_o,ns_h-2))\n",
    "# M = rng.random((ns_h,ns_h))  # totally made-up transition matrix\n",
    "\n",
    "\n",
    "M = np.array([[0.05,0.8,0.05,0.05,0.05,0.05,0.05], ## used for produce Vincent (from A to E slowly)\n",
    "              [0.05,0.05,0.8,0.05,0.05,0.05,0.05],\n",
    "              [0.05,0.05,0.05,0.8,0.05,0.05,0.05],\n",
    "              [0.05,0.05,0.05,0.05,0.8,0.05,0.05],\n",
    "              [0.05,0.05,0.05,0.05,0.05,0.8,0.05],\n",
    "              [0.05,0.05,0.05,0.05,0.05,0.05,0.8],\n",
    "              [0.8,0.05,0.05,0.05,0.05,0.05,0.05]])\n",
    "M = M / M.sum(0)\n",
    "# E = np.array([[0.001,0.001,0.01,0.01,0.01]])\n",
    "             \n",
    "E = np.zeros((26,7))\n",
    "E = np.array([[0., 0., 0., 0., 0., 0., 0.], ## sorry for the mess here, just wanna do printing my name so make up the emission matrix\n",
    "              [0., 0., 0., 0., 0., 0., 0.],\n",
    "              [0., 0., 0., 0., 0., 0., 0.],\n",
    "              [0., 0., 0., 0., 0., 0., 0.],\n",
    "              [0., 0., 0., 0., 0., 0., 0.],\n",
    "              [0., 0., 0., 0., 0., 0., 0.],\n",
    "              [0., 0., 0., 0., 0., 0., 0.],\n",
    "              [0., 0., 0., 0., 0., 0., 0.],\n",
    "              [0., 0., 0., 0., 0., 0., 0.],\n",
    "              [0., 0., 0., 0., 0., 0., 0.],\n",
    "              [0., 0., 0., 0., 0., 0., 0.],\n",
    "              [0., 0., 0., 0., 0., 0., 0.],\n",
    "              [0., 0., 0., 0., 0., 0., 0.],\n",
    "              [0., 0., 0., 0., 0., 0., 0.],\n",
    "              [0., 0., 0., 0., 0., 0., 0.],\n",
    "              [0., 0., 0., 0., 0., 0., 0.],\n",
    "              [0., 0., 0., 0., 0., 0., 0.],\n",
    "              [0., 0., 0., 0., 0., 0., 0.],\n",
    "              [0., 0., 0., 0., 0., 0., 0.],\n",
    "              [0., 0., 0., 0., 0., 0., 0.],\n",
    "              [0., 0., 0., 0., 0., 0., 0.],\n",
    "              [0., 0., 0., 0., 0., 0., 0.],\n",
    "              [0., 0., 0., 0., 0., 0., 0.],\n",
    "              [0., 0., 0., 0., 0., 0., 0.],\n",
    "              [0., 0., 0., 0., 0., 0., 0.],\n",
    "              [0., 0., 0., 0., 0., 0., 0.]])\n",
    "for i in range(26):\n",
    "    for j in range(7):\n",
    "        E[i][j]=0.05\n",
    "E[21][0]=0.8\n",
    "E[8][1] = 0.8\n",
    "E[13][2]= 0.8\n",
    "E[2][3] =0.8\n",
    "E[4][4]=0.8 \n",
    "E[13][5] =0.8\n",
    "E[19][6] = 0.8\n",
    "E = E/E.sum(0)\n",
    "\n",
    "\n",
    "# M = M / M.sum(0) # just to be sure it's normalised down the cols.\n",
    "# E = E/ E.sum(0)\n",
    "# M0 = M0/M0.sum(0)\n",
    "M0 = [1,0,0,0,0,0,0]"
   ]
  },
  {
   "cell_type": "code",
   "execution_count": 1321,
   "metadata": {},
   "outputs": [],
   "source": [
    "# fig, ax= plt.subplots(1,2)\n",
    "# ax[0].imshow(np.atleast_2d(E0).T, cmap='Blues', vmin=0,vmax=1)\n",
    "# ax[0].set_title(r'init probs, $E0$'); ax[0].axis('off')\n",
    "# ax[1].imshow(I, cmap='Blues', vmin=0,vmax=1)\n",
    "# dum = ax[1].set_title(r'Emmisions, $E$')\n",
    "# dum = plt.setp(ax[1], xticks=range(2), xticklabels=stateNames, yticks=range(26), yticklabels=stateNames_y)\n",
    "# plt.tight_layout()\n"
   ]
  },
  {
   "cell_type": "code",
   "execution_count": 1322,
   "metadata": {},
   "outputs": [
    {
     "data": {
      "image/png": "[encoded data removed]",
      "text/plain": [
       "<Figure size 720x480 with 2 Axes>"
      ]
     },
     "metadata": {
      "needs_background": "light"
     },
     "output_type": "display_data"
    }
   ],
   "source": [
    "fig, ax= plt.subplots(1,2)\n",
    "ax[0].imshow(np.atleast_2d(E0).T, cmap='Blues', vmin=0,vmax=1)\n",
    "ax[0].set_title(r'init probs, $E0$'); ax[0].axis('off')\n",
    "ax[1].imshow(E, cmap='Blues', vmin=0,vmax=1)\n",
    "dum = ax[1].set_title(r'Emmisions, $E$')\n",
    "dum = plt.setp(ax[1], xticks=range(ns_h), xticklabels=stateNames, yticks=range(ns_o), yticklabels=stateNames_y)\n",
    "plt.tight_layout()\n"
   ]
  },
  {
   "cell_type": "code",
   "execution_count": 1323,
   "metadata": {},
   "outputs": [
    {
     "data": {
      "text/plain": [
       "array([[0.05, 0.73, 0.05, 0.05, 0.05, 0.05, 0.05],\n",
       "       [0.05, 0.05, 0.73, 0.05, 0.05, 0.05, 0.05],\n",
       "       [0.05, 0.05, 0.05, 0.73, 0.05, 0.05, 0.05],\n",
       "       [0.05, 0.05, 0.05, 0.05, 0.73, 0.05, 0.05],\n",
       "       [0.05, 0.05, 0.05, 0.05, 0.05, 0.73, 0.05],\n",
       "       [0.05, 0.05, 0.05, 0.05, 0.05, 0.05, 0.73],\n",
       "       [0.73, 0.05, 0.05, 0.05, 0.05, 0.05, 0.05]])"
      ]
     },
     "execution_count": 1323,
     "metadata": {},
     "output_type": "execute_result"
    },
    {
     "data": {
      "image/png": "[encoded data removed]",
      "text/plain": [
       "<Figure size 720x480 with 2 Axes>"
      ]
     },
     "metadata": {
      "needs_background": "light"
     },
     "output_type": "display_data"
    }
   ],
   "source": [
    "fig, ax= plt.subplots(1,2)\n",
    "ax[0].imshow(np.atleast_2d(M0).T, cmap='Blues', vmin=0,vmax=1)\n",
    "ax[0].set_title(r'init probs, $M0$'); ax[0].axis('off')\n",
    "ax[1].imshow(M, cmap='Blues', vmin=0,vmax=1)\n",
    "dum = ax[1].set_title(r'transitions, $M$')\n",
    "dum = plt.setp(ax[1], xticks=range(ns_h), xticklabels=stateNames, yticks=range(ns_h), yticklabels=stateNames)\n",
    "plt.tight_layout()\n",
    "M"
   ]
  },
  {
   "cell_type": "code",
   "execution_count": 1324,
   "metadata": {},
   "outputs": [],
   "source": [
    "# no_obs = 5\n",
    "# obs={} # now the observation become y instead of x \n",
    "# for i in range(no_obs): \n",
    "#     obs[rng.randint(nt)] = rng.randint(ns_o)\n",
    "\n",
    "# # OR INSTEAD, FOR TESTING, let's just ordain the first and last states.    \n",
    "# # obs ={0:0, 9:2}\n",
    "\n",
    "# print(obs)"
   ]
  },
  {
   "cell_type": "code",
   "execution_count": 1336,
   "metadata": {},
   "outputs": [],
   "source": [
    "maxSqeuence =100\n",
    "msg_forw_to_factor = np.zeros((ns_h,maxSqeuence))  # 'D' for msg heading Down-stream\n",
    "msg_back_to_factor = np.zeros((ns_h,maxSqeuence))  # 'U' for msg heading Up-stream\n",
    "\n",
    "# messages going from factors to vars...\n",
    "msg_forw_to_var = np.zeros((ns_h,maxSqeuence))  \n",
    "msg_back_to_var = np.zeros((ns_h,maxSqeuence))  \n",
    "\n",
    "# messages going from y to factors\n",
    "msg_y_to_factor = np.zeros((ns_h,maxSqeuence))  \n",
    "# messages from factor on y side to var\n",
    "msg_yfactor_to_var = np.zeros((ns_h,maxSqeuence)) ## just E matrix\n",
    "samples = []#samples made"
   ]
  },
  {
   "cell_type": "code",
   "execution_count": 1337,
   "metadata": {},
   "outputs": [],
   "source": [
    "def takeSamplesOnChain(v):\n",
    "    samples.append(0)\n",
    "    \n",
    "\n"
   ]
  },
  {
   "cell_type": "code",
   "execution_count": 1338,
   "metadata": {},
   "outputs": [],
   "source": [
    "## sampling here \n",
    "\n",
    "notEnd = True# check if the sequence end\n",
    "delt = False # if the previous time step enter deletion\n",
    "inst = False # if the previous time step enter insertion\n",
    "r_delt = 0.1\n",
    "r_inst = 0.2\n",
    "t =0 #tracking time step\n",
    "\n",
    "while(notEnd):## if not reach the end node then keep iterating\n",
    "    if t==0:# special case because has it's very own factor\n",
    "        msg_forw_to_var[:,t] = M0 # nb. does not matter, but anyway!\n",
    "    else:\n",
    "        if delt or inst:\n",
    "                if delt:\n",
    "                        if r_delt < rng.random(): # get out of deletion\n",
    "                            delt=False # leaved deletion\n",
    "                            pass # dont take any sample and enter the next iteration\n",
    "                        \n",
    "                        else:\n",
    "                            print(\"out deletion\")\n",
    "                else: # in insertion \n",
    "                        if r_inst < rng.random():# leave insertion\n",
    "                            t+=1\n",
    "                            inst = False #left insertion\n",
    "                            pass # goes into the next iteration (t+1)\n",
    "                        else:#still in insertion \n",
    "#                             samples.append()\n",
    "                            takingSampleForInsert()\n",
    "                        #trigger a letter and take the sample using I matrix\n",
    "                            \n",
    "        else:  # the previous node is on the chain and proceed the sample process\n",
    "            r = rng.random() # used to decide if goes into insertion or deletion\n",
    "            if r <0.3:#jumps into deletion or insertion\n",
    "                if r<0.1:#goes into deletion\n",
    "                    delt=True\n",
    "                else:\n",
    "                    inst =True\n",
    "                    takingSampleForInsert()# trig taking samples\n",
    "                    \n",
    "                \n",
    "            upstream_msg = msg_forw_to_factor[:,t-1]\n",
    "            msg_forw_to_var[:,t] = (M * upstream_msg).sum(1).reshape(ns_h)\n",
    "            takeSamplesOnChain(msg_forw_to_var[:,t])\n",
    "\n",
    "            if t in obs: # there's an observation - this beats any inference guesswork!\n",
    "                    p = (E.T*onehot(obs[t],ns_o).T).sum(1).reshape(ns_h)\n",
    "#         print(p)\n",
    "                    msg_forw_to_factor[:,t] = ( E.T * onehot(obs[t],ns_o).T).sum(1).reshape(ns_h)\n",
    "                    m=onehot(obs[t],ns_o)\n",
    "            else:\n",
    "                    msg_forw_to_factor[:,t] = msg_forw_to_var[:,t] # default is it goes straight through the variable node.\n",
    "\n",
    "\n",
    "    if(t==nt): \n",
    "        notEnd =False ## the sequence is ended\n",
    "    t+=1 #change the time step\n",
    "\n",
    "\n",
    "# print(samples)"
   ]
  },
  {
   "cell_type": "code",
   "execution_count": 1339,
   "metadata": {},
   "outputs": [],
   "source": [
    "def takingSampleForInsert():\n",
    "    print(I)"
   ]
  },
  {
   "cell_type": "code",
   "execution_count": 1328,
   "metadata": {},
   "outputs": [],
   "source": [
    "for t in range(nt):\n",
    "    # first we do the message leaving the var node, going forwards / downstream\n",
    "    if t==0:\n",
    "        # special case because has it's very own factor\n",
    "        msg_forw_to_var[:,t] = M0 # nb. does not matter, but anyway!\n",
    "    else:\n",
    "        upstream_msg = msg_forw_to_factor[:,t-1]\n",
    "        msg_forw_to_var[:,t] = (M * upstream_msg).sum(1).reshape(ns_h)        \n",
    "\n",
    "    if t in obs: # there's an observation - this beats any inference guesswork!\n",
    "        p = (E.T*onehot(obs[t],ns_o).T).sum(1).reshape(ns_h)\n",
    "#         print(p)\n",
    "        msg_forw_to_factor[:,t] = ( E.T * onehot(obs[t],ns_o).T).sum(1).reshape(ns_h)\n",
    "        m=onehot(obs[t],ns_o)\n",
    "    else:\n",
    "        msg_forw_to_factor[:,t] = msg_forw_to_var[:,t] # default is it goes straight through the variable node.\n",
    "#     if t==3:\n",
    "#         p = msg_forw_to_var[:,t]\n",
    "#         p= p/ p.sum(0)\n",
    "#         print(p)"
   ]
  },
  {
   "cell_type": "code",
   "execution_count": 1234,
   "metadata": {},
   "outputs": [],
   "source": [
    "# for t in reversed(range(nt)):\n",
    "#     if t == nt-1: # last one is special case: incoming back msg is just a dummy vector of ones.\n",
    "#         msg_back_to_var[:,t] = np.ones(ns_h)/ns_h\n",
    "#     else:\n",
    "#         upstream_msg = msg_back_to_factor[:,t+1]\n",
    "#         msg_back_to_var[:,t] = (M.T * upstream_msg).sum(1).reshape(ns_h)    \n",
    "    \n",
    "#     if t in obs: # there's an observation - this beats any inference guesswork!\n",
    "#         msg_back_to_factor[:,t] = (E.T* onehot(obs[t],ns_o).T).sum(1).reshape(ns_h) # the observed value, one-hot encoded\n",
    "#     else:\n",
    "#         msg_back_to_factor[:,t] = msg_back_to_var[:,t] # default is it goes straight through the variable node."
   ]
  },
  {
   "cell_type": "markdown",
   "metadata": {},
   "source": [
    "Sorry, I dont have enought time to try on EM, I just realized is over the due time :(. But I think I should put down the thought about how I would use EM on my model.<br>\n",
    "So for using EM, first collect some strings as what you described in the tutorial. Then I would set each letter in the string as observations in order to train the Emission and transistion.<br>\n",
    "Then need to train the rate for insertion and deletion. So put the transistions and emission as fixed.<br>\n",
    "And use the same strings to train the distribution for letters of insertion matrix.<br>\n",
    "And I think the rate of insertion and deletion should also be trained, it should not just be fixed probabilities.<br>\n",
    "If this idea is correct, I think this kind of models are correct, if we feeding the models with something like maybe news, it can generate fake news by it self? <br>\n",
    "\n",
    "Again sorry about disappointing you for looking through codes but it did not work properly. I spent like 3 or 4 days on this assignment, but ehhhh still did not make all them work properly. \n"
   ]
  },
  {
   "cell_type": "code",
   "execution_count": null,
   "metadata": {},
   "outputs": [],
   "source": []
  }
 ],
 "metadata": {
  "kernelspec": {
   "display_name": "Python 3",
   "language": "python",
   "name": "python3"
  },
  "language_info": {
   "codemirror_mode": {
    "name": "ipython",
    "version": 3
   },
   "file_extension": ".py",
   "mimetype": "text/x-python",
   "name": "python",
   "nbconvert_exporter": "python",
   "pygments_lexer": "ipython3",
   "version": "3.7.4"
  }
 },
 "nbformat": 4,
 "nbformat_minor": 2
}
